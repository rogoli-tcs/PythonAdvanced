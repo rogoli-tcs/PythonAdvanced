{
 "cells": [
  {
   "cell_type": "markdown",
   "metadata": {},
   "source": [
    "# Sorting Techniques"
   ]
  },
  {
   "cell_type": "code",
   "execution_count": 19,
   "metadata": {},
   "outputs": [],
   "source": [
    "import time\n",
    "from random import choices\n",
    "from string import ascii_lowercase\n",
    "\n",
    "# Generate 10 Random 4 letter strings\n",
    "word_list = [\"\".join(choices(ascii_lowercase, k=10)) for _ in range(100)]\n",
    "word_list1 = [\"\".join(choices(ascii_lowercase, k=10)) for _ in range(1000)]\n",
    "word_list2 = [\"\".join(choices(ascii_lowercase, k=10)) for _ in range(10000)]\n",
    "word_list3 = [\"\".join(choices(ascii_lowercase, k=10)) for _ in range(100000)]\n",
    "# word_list4 = [\"\".join(choices(ascii_lowercase, k=4)) for _ in range(1000000)]\n",
    "# word_list5 = [\"\".join(choices(ascii_lowercase, k=4)) for _ in range(10000000)]\n",
    "\n",
    "##print(word_list)"
   ]
  },
  {
   "cell_type": "code",
   "execution_count": null,
   "metadata": {},
   "outputs": [],
   "source": [
    "#Bubble Sort\n"
   ]
  },
  {
   "cell_type": "code",
   "execution_count": 20,
   "metadata": {},
   "outputs": [
    {
     "name": "stdout",
     "output_type": "stream",
     "text": [
      "Ran Insertion Sort for List of length 100 in 0.0042 seconds\n",
      "Ran Insertion Sort for List of length 1000 in 0.2517 seconds\n"
     ]
    }
   ],
   "source": [
    "# Insertion Sort\n",
    "\n",
    "def insertion_sort(wl):\n",
    "    N=len(wl)\n",
    "    for i in range(1,N):\n",
    "        #print(wl)\n",
    "        for j in range(i,0,-1):\n",
    "            if(wl[j-1]>wl[j]):\n",
    "                wl[j-1],wl[j]=wl[j],wl[j-1]\n",
    "            else:\n",
    "                break\n",
    "\n",
    "tic = time.perf_counter()\n",
    "insertion_sort(word_list)\n",
    "toc = time.perf_counter()\n",
    "print(f\"Ran Insertion Sort for List of length {len(word_list)} in {toc - tic:0.4f} seconds\")\n",
    "\n",
    "tic = time.perf_counter()\n",
    "insertion_sort(word_list1)\n",
    "toc = time.perf_counter()\n",
    "print(f\"Ran Insertion Sort for List of length {len(word_list1)} in {toc - tic:0.4f} seconds\")\n",
    "\n",
    "# tic = time.perf_counter()\n",
    "# insertion_sort(word_list3)\n",
    "# toc = time.perf_counter()\n",
    "# print(f\"Ran Insertion Sort for List of length {len(word_list3)} in {toc - tic:0.4f} seconds\")\n",
    "\n",
    "##print(word_list)\n",
    "\n",
    "\n",
    "# Order of Execution: N^2\n",
    "\n",
    "# Ran Insertion Sort for List of length 100 in 0.0030 seconds\n",
    "# Ran Insertion Sort for List of length 10000 in 31.0180 seconds"
   ]
  },
  {
   "cell_type": "code",
   "execution_count": null,
   "metadata": {},
   "outputs": [],
   "source": [
    "# Merge Sort\n",
    "\n",
    "def merge_sort(wl):\n",
    "    N=len(wl)\n",
    "    if N>1:\n",
    "        mid=N//2    \n",
    "        rwl = wl[:mid]\n",
    "        lwl = wl[mid:]\n",
    "\n",
    "        ## Merge Sort right and left halves\n",
    "        merge_sort(rwl)\n",
    "        merge_sort(lwl)\n",
    "        #print(rwl,lwl)\n",
    "        \n",
    "        # sub list iterator\n",
    "        i=0\n",
    "        j=0\n",
    "        \n",
    "        # main list iterator\n",
    "        k=0\n",
    "        \n",
    "        ## Compare and merge back into original list\n",
    "        while i<len(rwl) and j<len(lwl):\n",
    "            if(rwl[i]<lwl[j]):\n",
    "                wl[k]=rwl[i]\n",
    "                i+=1\n",
    "            else:\n",
    "                wl[k]=lwl[j]\n",
    "                j+=1\n",
    "            k+=1\n",
    "        \n",
    "        ## For All remaining values\n",
    "        while i<len(rwl):\n",
    "            wl[k]=rwl[i]\n",
    "            i+=1\n",
    "            k+=1\n",
    "        \n",
    "        while j<len(lwl):\n",
    "            wl[k]=lwl[j]\n",
    "            j+=1\n",
    "            k+=1\n",
    "# print(word_list)\n",
    "# merge_sort(word_list)\n",
    "# print(word_list)\n",
    "\n",
    "tic = time.perf_counter()\n",
    "merge_sort(word_list)\n",
    "toc = time.perf_counter()\n",
    "print(f\"Ran Merge Sort for List of length {len(word_list)} in {toc - tic:0.4f} seconds\")\n",
    "\n",
    "tic = time.perf_counter()\n",
    "merge_sort(word_list2)\n",
    "toc = time.perf_counter()\n",
    "print(f\"Ran Merge Sort for List of length {len(word_list2)} in {toc - tic:0.4f} seconds\")\n",
    "\n",
    "tic = time.perf_counter()\n",
    "merge_sort(word_list3)\n",
    "toc = time.perf_counter()\n",
    "print(f\"Ran Merge Sort for List of length {len(word_list3)} in {toc - tic:0.4f} seconds\")\n",
    "\n",
    "# Order of Execution: 2N.Log(N) or N.Log(N)\n",
    "# 1.2 billion records -> 20min\n",
    "\n",
    "# Ran Merge Sort for List of length 100 in 0.0011 seconds\n",
    "# Ran Merge Sort for List of length 10000 in 0.2373 seconds\n",
    "# Ran Merge Sort for List of length 100000 in 2.7021 seconds"
   ]
  },
  {
   "cell_type": "code",
   "execution_count": 39,
   "metadata": {},
   "outputs": [
    {
     "name": "stdout",
     "output_type": "stream",
     "text": [
      "a a c a a g t t t a c a a g c\n",
      "caagcatcgtttaacaagt\n"
     ]
    }
   ],
   "source": [
    "# Longest Repeated Sub-String Problem\n",
    "\n",
    "tl = \"a a c a a g t t t a c a a g c g t\".split()\n",
    "tl2 = \"a a c a a g t t t a c a a g c a t c g t t t\".split()\n",
    "\n",
    "# longet common prefix\n",
    "def lcp(str1,str2):\n",
    "    N=min(len(str1),len(str2))\n",
    "    for i in range(N):\n",
    "        if str1[i]!=str2[i]:\n",
    "            return str1[0:i]\n",
    "    return str1[0:N]\n",
    "    \n",
    "print(' '.join(lcp(tl,tl2)))\n",
    "\n",
    "# Longest Repeated String\n",
    "def lrs(str1):\n",
    "    lrs=''\n",
    "    N=len(str1)\n",
    "    for i in range(N):\n",
    "        for j in range(i+1,N):\n",
    "            X=lcp(str1[i:N],str1[j:N])\n",
    "            if(len(X)>len(lrs)):\n",
    "                lrs =X\n",
    "    return lrs\n",
    "\n",
    "print(lrs('aacaagtttacaagcatcgtttaacaagtttacaagcgtcaagcatcgtttaacaagt'))\n",
    "# Order of Execution N^2/2"
   ]
  },
  {
   "cell_type": "code",
   "execution_count": 82,
   "metadata": {},
   "outputs": [
    {
     "name": "stdout",
     "output_type": "stream",
     "text": [
      "['aacaagtttacaagcatcgtttaacaagtttacaagcgtcaagcatcgtttaacaagt', 'acaagtttacaagcatcgtttaacaagtttacaagcgtcaagcatcgtttaacaagt', 'caagtttacaagcatcgtttaacaagtttacaagcgtcaagcatcgtttaacaagt', 'aagtttacaagcatcgtttaacaagtttacaagcgtcaagcatcgtttaacaagt', 'agtttacaagcatcgtttaacaagtttacaagcgtcaagcatcgtttaacaagt', 'gtttacaagcatcgtttaacaagtttacaagcgtcaagcatcgtttaacaagt', 'tttacaagcatcgtttaacaagtttacaagcgtcaagcatcgtttaacaagt', 'ttacaagcatcgtttaacaagtttacaagcgtcaagcatcgtttaacaagt', 'tacaagcatcgtttaacaagtttacaagcgtcaagcatcgtttaacaagt', 'acaagcatcgtttaacaagtttacaagcgtcaagcatcgtttaacaagt', 'caagcatcgtttaacaagtttacaagcgtcaagcatcgtttaacaagt', 'aagcatcgtttaacaagtttacaagcgtcaagcatcgtttaacaagt', 'agcatcgtttaacaagtttacaagcgtcaagcatcgtttaacaagt', 'gcatcgtttaacaagtttacaagcgtcaagcatcgtttaacaagt', 'catcgtttaacaagtttacaagcgtcaagcatcgtttaacaagt', 'atcgtttaacaagtttacaagcgtcaagcatcgtttaacaagt', 'tcgtttaacaagtttacaagcgtcaagcatcgtttaacaagt', 'cgtttaacaagtttacaagcgtcaagcatcgtttaacaagt', 'gtttaacaagtttacaagcgtcaagcatcgtttaacaagt', 'tttaacaagtttacaagcgtcaagcatcgtttaacaagt', 'ttaacaagtttacaagcgtcaagcatcgtttaacaagt', 'taacaagtttacaagcgtcaagcatcgtttaacaagt', 'aacaagtttacaagcgtcaagcatcgtttaacaagt', 'acaagtttacaagcgtcaagcatcgtttaacaagt', 'caagtttacaagcgtcaagcatcgtttaacaagt', 'aagtttacaagcgtcaagcatcgtttaacaagt', 'agtttacaagcgtcaagcatcgtttaacaagt', 'gtttacaagcgtcaagcatcgtttaacaagt', 'tttacaagcgtcaagcatcgtttaacaagt', 'ttacaagcgtcaagcatcgtttaacaagt', 'tacaagcgtcaagcatcgtttaacaagt', 'acaagcgtcaagcatcgtttaacaagt', 'caagcgtcaagcatcgtttaacaagt', 'aagcgtcaagcatcgtttaacaagt', 'agcgtcaagcatcgtttaacaagt', 'gcgtcaagcatcgtttaacaagt', 'cgtcaagcatcgtttaacaagt', 'gtcaagcatcgtttaacaagt', 'tcaagcatcgtttaacaagt', 'caagcatcgtttaacaagt', 'aagcatcgtttaacaagt', 'agcatcgtttaacaagt', 'gcatcgtttaacaagt', 'catcgtttaacaagt', 'atcgtttaacaagt', 'tcgtttaacaagt', 'cgtttaacaagt', 'gtttaacaagt', 'tttaacaagt', 'ttaacaagt', 'taacaagt', 'aacaagt', 'acaagt', 'caagt', 'aagt', 'agt', 'gt', 't']\n",
      "['aacaagt', 'aacaagtttacaagcatcgtttaacaagtttacaagcgtcaagcatcgtttaacaagt', 'aacaagtttacaagcgtcaagcatcgtttaacaagt', 'aagcatcgtttaacaagt', 'aagcatcgtttaacaagtttacaagcgtcaagcatcgtttaacaagt', 'aagcgtcaagcatcgtttaacaagt', 'aagt', 'aagtttacaagcatcgtttaacaagtttacaagcgtcaagcatcgtttaacaagt', 'aagtttacaagcgtcaagcatcgtttaacaagt', 'acaagcatcgtttaacaagtttacaagcgtcaagcatcgtttaacaagt', 'acaagcgtcaagcatcgtttaacaagt', 'acaagt', 'acaagtttacaagcatcgtttaacaagtttacaagcgtcaagcatcgtttaacaagt', 'acaagtttacaagcgtcaagcatcgtttaacaagt', 'agcatcgtttaacaagt', 'agcatcgtttaacaagtttacaagcgtcaagcatcgtttaacaagt', 'agcgtcaagcatcgtttaacaagt', 'agt', 'agtttacaagcatcgtttaacaagtttacaagcgtcaagcatcgtttaacaagt', 'agtttacaagcgtcaagcatcgtttaacaagt', 'atcgtttaacaagt', 'atcgtttaacaagtttacaagcgtcaagcatcgtttaacaagt', 'caagcatcgtttaacaagt', 'caagcatcgtttaacaagtttacaagcgtcaagcatcgtttaacaagt', 'caagcgtcaagcatcgtttaacaagt', 'caagt', 'caagtttacaagcatcgtttaacaagtttacaagcgtcaagcatcgtttaacaagt', 'caagtttacaagcgtcaagcatcgtttaacaagt', 'catcgtttaacaagt', 'catcgtttaacaagtttacaagcgtcaagcatcgtttaacaagt', 'cgtcaagcatcgtttaacaagt', 'cgtttaacaagt', 'cgtttaacaagtttacaagcgtcaagcatcgtttaacaagt', 'gcatcgtttaacaagt', 'gcatcgtttaacaagtttacaagcgtcaagcatcgtttaacaagt', 'gcgtcaagcatcgtttaacaagt', 'gt', 'gtcaagcatcgtttaacaagt', 'gtttaacaagt', 'gtttaacaagtttacaagcgtcaagcatcgtttaacaagt', 'gtttacaagcatcgtttaacaagtttacaagcgtcaagcatcgtttaacaagt', 'gtttacaagcgtcaagcatcgtttaacaagt', 't', 'taacaagt', 'taacaagtttacaagcgtcaagcatcgtttaacaagt', 'tacaagcatcgtttaacaagtttacaagcgtcaagcatcgtttaacaagt', 'tacaagcgtcaagcatcgtttaacaagt', 'tcaagcatcgtttaacaagt', 'tcgtttaacaagt', 'tcgtttaacaagtttacaagcgtcaagcatcgtttaacaagt', 'ttaacaagt', 'ttaacaagtttacaagcgtcaagcatcgtttaacaagt', 'ttacaagcatcgtttaacaagtttacaagcgtcaagcatcgtttaacaagt', 'ttacaagcgtcaagcatcgtttaacaagt', 'tttaacaagt', 'tttaacaagtttacaagcgtcaagcatcgtttaacaagt', 'tttacaagcatcgtttaacaagtttacaagcgtcaagcatcgtttaacaagt', 'tttacaagcgtcaagcatcgtttaacaagt']\n",
      "caagcatcgtttaacaagt\n"
     ]
    }
   ],
   "source": [
    "# Longest Repeated String - Suffix String Implementation\n",
    "def lrs_ssi(str1):\n",
    "    N = len(str1)\n",
    "    suf_str = ['']*N\n",
    "    \n",
    "    # Creating Suffix Strings\n",
    "    for i in range(0,N):\n",
    "        suf_str[i]=str1[i:N]\n",
    "        #print(i, str1[i:N])\n",
    "    print(suf_str)\n",
    "\n",
    "    # Perform Merge Sort on Suffix Strings\n",
    "    merge_sort(suf_str)\n",
    "    print(suf_str)\n",
    "    \n",
    "    # Finding LCP among Adjacent Suffic Strings\n",
    "    lrs=''\n",
    "    for i in range(len(suf_str)-1):\n",
    "        x = lcp(suf_str[i],suf_str[i+1])\n",
    "        if(len(lrs)<len(x)):\n",
    "            lrs = x\n",
    "    return lrs\n",
    "    \n",
    "    \n",
    "print(lrs_ssi('aacaagtttacaagcatcgtttaacaagtttacaagcgtcaagcatcgtttaacaagt'))\n",
    "\n",
    "## Order of Execution: N.Log(N)"
   ]
  },
  {
   "cell_type": "code",
   "execution_count": null,
   "metadata": {},
   "outputs": [],
   "source": []
  }
 ],
 "metadata": {
  "kernelspec": {
   "display_name": "Python 3",
   "language": "python",
   "name": "python3"
  },
  "language_info": {
   "codemirror_mode": {
    "name": "ipython",
    "version": 3
   },
   "file_extension": ".py",
   "mimetype": "text/x-python",
   "name": "python",
   "nbconvert_exporter": "python",
   "pygments_lexer": "ipython3",
   "version": "3.6.8"
  }
 },
 "nbformat": 4,
 "nbformat_minor": 2
}
