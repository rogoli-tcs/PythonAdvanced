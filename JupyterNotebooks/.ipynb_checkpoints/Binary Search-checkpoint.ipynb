{
 "cells": [
  {
   "cell_type": "code",
   "execution_count": 12,
   "metadata": {},
   "outputs": [
    {
     "name": "stdout",
     "output_type": "stream",
     "text": [
      "['doea', 'hkka', 'ijoh', 'kidf', 'rfld', 'tsod', 'ujux', 'vcqd', 'xfve', 'yefu']\n"
     ]
    }
   ],
   "source": [
    "from random import choices\n",
    "from string import ascii_lowercase\n",
    "\n",
    "# Generate 10 Random 4 letter strings\n",
    "word_list = sorted([\"\".join(choices(ascii_lowercase, k=4)) for _ in range(10)])\n",
    "\n",
    "print(word_list)"
   ]
  },
  {
   "cell_type": "code",
   "execution_count": 50,
   "metadata": {},
   "outputs": [],
   "source": [
    "# Binary Search Algo\n",
    "def search_with_index(key,wl,start,end):\n",
    "    if(end<=start):\n",
    "        return -1;\n",
    "    mid=start+int((end-start)/2)\n",
    "    print(key+\" - S:\"+str(start)+\" M:\"+str(mid)+\" E:\"+str(end)+\" - \"+wl[mid])\n",
    "    if(key<wl[mid]):\n",
    "        return search_with_index(key,wl,start,mid)\n",
    "    elif(key>wl[mid]):\n",
    "        return search_with_index(key,wl,mid+1,end)\n",
    "    else:\n",
    "        return mid\n",
    "\n",
    "def search(key,wl):\n",
    "    return search_with_index(key,wl,0,len(wl))"
   ]
  },
  {
   "cell_type": "code",
   "execution_count": 51,
   "metadata": {},
   "outputs": [
    {
     "name": "stdout",
     "output_type": "stream",
     "text": [
      "yqno - S:0 M:5 E:10 - tsod\n",
      "yqno - S:6 M:8 E:10 - xfve\n",
      "yqno - S:9 M:9 E:10 - yefu\n"
     ]
    },
    {
     "data": {
      "text/plain": [
       "-1"
      ]
     },
     "execution_count": 51,
     "metadata": {},
     "output_type": "execute_result"
    }
   ],
   "source": [
    "search('yqno',word_list)"
   ]
  },
  {
   "cell_type": "code",
   "execution_count": 52,
   "metadata": {},
   "outputs": [
    {
     "name": "stdout",
     "output_type": "stream",
     "text": [
      "rfld - S:0 M:5 E:10 - tsod\n",
      "rfld - S:0 M:2 E:5 - ijoh\n",
      "rfld - S:3 M:4 E:5 - rfld\n"
     ]
    },
    {
     "data": {
      "text/plain": [
       "4"
      ]
     },
     "execution_count": 52,
     "metadata": {},
     "output_type": "execute_result"
    }
   ],
   "source": [
    "search('rfld',word_list)"
   ]
  },
  {
   "cell_type": "markdown",
   "metadata": {},
   "source": [
    "Binary Search:\n",
    "============\n",
    "Algo Speed: N.Log N\n",
    "1.6 million records -> 33 seconds\n",
    "10.28 million records -> 264 secons\n",
    "\n",
    "Sequential Search:\n",
    "===============\n",
    "Algo Speed: N^2\n",
    "10.28 million records -> 10.5 hours\n"
   ]
  }
 ],
 "metadata": {
  "kernelspec": {
   "display_name": "Python 3",
   "language": "python",
   "name": "python3"
  },
  "language_info": {
   "codemirror_mode": {
    "name": "ipython",
    "version": 3
   },
   "file_extension": ".py",
   "mimetype": "text/x-python",
   "name": "python",
   "nbconvert_exporter": "python",
   "pygments_lexer": "ipython3",
   "version": "3.7.0"
  }
 },
 "nbformat": 4,
 "nbformat_minor": 2
}
