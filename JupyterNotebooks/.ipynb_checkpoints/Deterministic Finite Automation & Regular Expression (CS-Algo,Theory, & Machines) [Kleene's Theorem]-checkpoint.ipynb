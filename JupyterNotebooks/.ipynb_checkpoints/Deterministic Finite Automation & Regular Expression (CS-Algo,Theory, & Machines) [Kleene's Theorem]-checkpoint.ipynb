{
 "cells": [
  {
   "cell_type": "code",
   "execution_count": 32,
   "metadata": {},
   "outputs": [
    {
     "name": "stdout",
     "output_type": "stream",
     "text": [
      "0\n",
      "{'a': 1, 'b': 2}\n",
      "3\n",
      "[['True', '0', '1'], ['False', '1', '2'], ['False', '2', '0']]\n",
      "True\n",
      "False\n",
      "True\n",
      "False\n"
     ]
    }
   ],
   "source": [
    "class DFA:\n",
    "    def __init__(self,start,alphabets,states,state_map):\n",
    "        self.start = start\n",
    "        self.alphabets = {v:k+1 for k,v in enumerate(alphabets)}\n",
    "        self.states = states\n",
    "        self.state_map = [x.split() for x in state_map.split('\\n')]\n",
    "        \n",
    "    def printDFA(self):\n",
    "        print(self.start)\n",
    "        print(self.alphabets)\n",
    "        print(self.states)\n",
    "        print(self.state_map)\n",
    "        \n",
    "    def recognises(self, data):\n",
    "        current_state = self.start\n",
    "        current_value = self.state_map[current_state][0]\n",
    "        #print('',current_state, current_value)\n",
    "        for val in data:\n",
    "            #print(val, current_state, current_value,'---------')\n",
    "            current_state = int(self.state_map[current_state][self.alphabets[val]])\n",
    "            current_value = self.state_map[current_state][0]\n",
    "            #print(val, current_state, current_value)\n",
    "        \n",
    "        return current_value\n",
    "        \n",
    "        \n",
    "state_map = \"\"\"True 0 1\n",
    "False 1 2\n",
    "False 2 0\"\"\"\n",
    "\n",
    "d = DFA(0,'ab',3,state_map)\n",
    "d.printDFA()\n",
    "print(d.recognises('bababa'))\n",
    "print(d.recognises('bb'))\n",
    "print(d.recognises('abbabbababbbabaaa'))\n",
    "print(d.recognises('abbabbababbba'))\n"
   ]
  },
  {
   "cell_type": "code",
   "execution_count": 2,
   "metadata": {},
   "outputs": [
    {
     "name": "stdout",
     "output_type": "stream",
     "text": [
      "<_sre.SRE_Match object; span=(0, 6), match='bababa'>\n",
      "None\n",
      "<_sre.SRE_Match object; span=(0, 17), match='abbabbababbbabaaa'>\n",
      "None\n"
     ]
    }
   ],
   "source": [
    "import re\n",
    "\n",
    "## Full Match DFA\n",
    "## Java - a*|(a*ba*ba*ba*)*\n",
    "## Python - ^(a*|(a*ba*ba*ba*)*)$\n",
    "\n",
    "regex = \"^(a*|(a*ba*ba*ba*)*)$\"\n",
    "\n",
    "print(re.search(regex,'bababa'))\n",
    "print(re.search(regex,'bb'))\n",
    "print(re.search(regex,'abbabbababbbabaaa'))\n",
    "print(re.search(regex,'abbabbababbba'))\n"
   ]
  },
  {
   "cell_type": "code",
   "execution_count": null,
   "metadata": {},
   "outputs": [],
   "source": [
    "# Klee's Theorem\n",
    "# Any given RE, there exists a DFA that accepts same set of strings\n",
    "# Any given DFA, there exists a RE that accepts same set of strings\n",
    "\n",
    "## Cons of DFA\n",
    "# DFA might have exponentially many states\n",
    "\n",
    "## More efficient Algo -> Nondeterministic Finite Automation(NFA)\n",
    "\n",
    "## GREP -> Generalized Regex Pattern matcher\n",
    "\n",
    "## 1-Stack DFA can recognise binary strings -> string with equal 0's and 1's.\n",
    "## 2-Stack DFA can recognies -> primary numbers\n",
    "\n",
    "## No n-stack DFA is present till now"
   ]
  }
 ],
 "metadata": {
  "kernelspec": {
   "display_name": "Python 3",
   "language": "python",
   "name": "python3"
  },
  "language_info": {
   "codemirror_mode": {
    "name": "ipython",
    "version": 3
   },
   "file_extension": ".py",
   "mimetype": "text/x-python",
   "name": "python",
   "nbconvert_exporter": "python",
   "pygments_lexer": "ipython3",
   "version": "3.6.8"
  }
 },
 "nbformat": 4,
 "nbformat_minor": 4
}
