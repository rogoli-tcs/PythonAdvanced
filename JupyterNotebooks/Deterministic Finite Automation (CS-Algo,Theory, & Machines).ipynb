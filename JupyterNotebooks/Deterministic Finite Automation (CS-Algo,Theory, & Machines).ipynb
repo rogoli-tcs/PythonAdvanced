{
 "cells": [
  {
   "cell_type": "code",
   "execution_count": 32,
   "metadata": {},
   "outputs": [
    {
     "name": "stdout",
     "output_type": "stream",
     "text": [
      "0\n",
      "{'a': 1, 'b': 2}\n",
      "3\n",
      "[['True', '0', '1'], ['False', '1', '2'], ['False', '2', '0']]\n",
      "True\n",
      "False\n",
      "True\n",
      "False\n"
     ]
    }
   ],
   "source": [
    "class DFA:\n",
    "    def __init__(self,start,alphabets,states,state_map):\n",
    "        self.start = start\n",
    "        self.alphabets = {v:k+1 for k,v in enumerate(alphabets)}\n",
    "        self.states = states\n",
    "        self.state_map = [x.split() for x in state_map.split('\\n')]\n",
    "        \n",
    "    def printDFA(self):\n",
    "        print(self.start)\n",
    "        print(self.alphabets)\n",
    "        print(self.states)\n",
    "        print(self.state_map)\n",
    "        \n",
    "    def recognises(self, data):\n",
    "        current_state = self.start\n",
    "        current_value = self.state_map[current_state][0]\n",
    "        #print('',current_state, current_value)\n",
    "        for val in data:\n",
    "            #print(val, current_state, current_value,'---------')\n",
    "            current_state = int(self.state_map[current_state][self.alphabets[val]])\n",
    "            current_value = self.state_map[current_state][0]\n",
    "            #print(val, current_state, current_value)\n",
    "        \n",
    "        return current_value\n",
    "        \n",
    "        \n",
    "state_map = \"\"\"True 0 1\n",
    "False 1 2\n",
    "False 2 0\"\"\"\n",
    "\n",
    "d = DFA(0,'ab',3,state_map)\n",
    "d.printDFA()\n",
    "print(d.recognises('bababa'))\n",
    "print(d.recognises('bb'))\n",
    "print(d.recognises('abbabbababbbabaaa'))\n",
    "print(d.recognises('abbabbababbba'))\n"
   ]
  },
  {
   "cell_type": "code",
   "execution_count": null,
   "metadata": {},
   "outputs": [],
   "source": []
  }
 ],
 "metadata": {
  "kernelspec": {
   "display_name": "Python 3",
   "language": "python",
   "name": "python3"
  },
  "language_info": {
   "codemirror_mode": {
    "name": "ipython",
    "version": 3
   },
   "file_extension": ".py",
   "mimetype": "text/x-python",
   "name": "python",
   "nbconvert_exporter": "python",
   "pygments_lexer": "ipython3",
   "version": "3.6.8"
  }
 },
 "nbformat": 4,
 "nbformat_minor": 4
}
