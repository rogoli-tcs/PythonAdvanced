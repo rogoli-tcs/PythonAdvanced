{
 "cells": [
  {
   "cell_type": "markdown",
   "metadata": {},
   "source": [
    "from array import *\n",
    "\n",
    "arrayName = array(typecode, [Initializers])\n",
    "\n",
    "Typecode\tValue\n",
    "b\tRepresents signed integer of size 1 byte\n",
    "\n",
    "B\tRepresents unsigned integer of size 1 byte\n",
    "\n",
    "c\tRepresents character of size 1 byte\n",
    "\n",
    "i\tRepresents signed integer of size 2 bytes\n",
    "\n",
    "I\tRepresents unsigned integer of size 2 bytes\n",
    "\n",
    "f\tRepresents floating point of size 4 bytes\n",
    "\n",
    "d\tRepresents floating point of size 8 bytes"
   ]
  },
  {
   "cell_type": "code",
   "execution_count": null,
   "metadata": {},
   "outputs": [],
   "source": [
    "from array import *\n",
    "testArray = array('i',[4,6,8,1,2,9])\n",
    "\n",
    "for x in testArray:\n",
    "    print(x)"
   ]
  },
  {
   "cell_type": "code",
   "execution_count": null,
   "metadata": {},
   "outputs": [],
   "source": []
  }
 ],
 "metadata": {
  "language_info": {
   "codemirror_mode": {
    "name": "ipython",
    "version": 3
   },
   "file_extension": ".py",
   "mimetype": "text/x-python",
   "name": "python",
   "nbconvert_exporter": "python",
   "pygments_lexer": "ipython3",
   "version": 3
  },
  "orig_nbformat": 2
 },
 "nbformat": 4,
 "nbformat_minor": 2
}