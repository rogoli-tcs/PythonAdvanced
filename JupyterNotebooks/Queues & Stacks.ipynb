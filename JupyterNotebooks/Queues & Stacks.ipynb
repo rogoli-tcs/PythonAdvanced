{
 "cells": [
  {
   "cell_type": "code",
   "execution_count": 2,
   "metadata": {},
   "outputs": [],
   "source": [
    "# A simple class stack that only allows pop and push operations\n",
    "class Stack:\n",
    "\n",
    "    def __init__(self):\n",
    "        self.stack = []\n",
    "\n",
    "    def pop(self):\n",
    "        if len(self.stack) < 1:\n",
    "            return None\n",
    "        return self.stack.pop()\n",
    "\n",
    "    def push(self, item):\n",
    "        self.stack.append(item)\n",
    "\n",
    "    def size(self):\n",
    "        return len(self.stack)\n",
    "\n",
    "    def peep(self):\n",
    "        return self.stack[-1]\n",
    "\n",
    "    def print(self):\n",
    "        return [z for z in self.stack]\n",
    "\n",
    "# And a queue that only has enqueue and dequeue operations\n",
    "class Queue:\n",
    "\n",
    "    def __init__(self):\n",
    "        self.queue = []\n",
    "\n",
    "    def enqueue(self, item):\n",
    "        self.queue.append(item)\n",
    "\n",
    "    def dequeue(self):\n",
    "        if len(self.queue) < 1:\n",
    "            return None\n",
    "        return self.queue.pop(0)\n",
    "\n",
    "    def size(self):\n",
    "        return len(self.queue) \n",
    "    \n",
    "    def print(self):\n",
    "        return [x for x in self.queue]"
   ]
  },
  {
   "cell_type": "code",
   "execution_count": 36,
   "metadata": {},
   "outputs": [
    {
     "output_type": "stream",
     "name": "stdout",
     "text": "[4, 'rohan', 5]\n['rohan', 5]\n"
    }
   ],
   "source": [
    "tq = Queue()\n",
    "tq.enqueue(4)\n",
    "tq.enqueue('rohan')\n",
    "tq.enqueue(5)\n",
    "print(tq.print())\n",
    "tq.dequeue()\n",
    "print(tq.print())"
   ]
  },
  {
   "cell_type": "code",
   "execution_count": 37,
   "metadata": {},
   "outputs": [
    {
     "output_type": "stream",
     "name": "stdout",
     "text": "[4]\n[4, 'q']\n[4, 'q', 'rohan']\n[4, 'q']\n"
    }
   ],
   "source": [
    "ts=Stack()\n",
    "ts.push(4)\n",
    "print(ts.print())\n",
    "ts.push('q')\n",
    "print(ts.print())\n",
    "ts.push('rohan')\n",
    "print(ts.print())\n",
    "ts.pop()\n",
    "print(ts.print())"
   ]
  },
  {
   "cell_type": "code",
   "execution_count": 14,
   "metadata": {},
   "outputs": [
    {
     "output_type": "stream",
     "name": "stdout",
     "text": "[1.0]\n[1.0, 2.0]\n[1.0, 2.0, 3.0]\n[1.0, 5.0]\n[1.0, 5.0, 4.0]\n[1.0, 5.0, 4.0, 5.0]\n[1.0, 5.0, 20.0]\n[1.0, 100.0]\n[101.0]\n[1.0]\n[1.0, 5.0]\n[1.0, 2.23606797749979]\n[3.23606797749979]\n[3.23606797749979, 2.0]\n[1.618033988749895]\n"
    }
   ],
   "source": [
    "## Post Fix Arithmetic Evaluation\n",
    "import math\n",
    "\n",
    "def postfix_arith_eval(x):\n",
    "    evalstack = Stack()\n",
    "    for val in x.split(' '):\n",
    "        if(val==\"*\"):\n",
    "            evalstack.push(evalstack.pop() * evalstack.pop())\n",
    "        elif(val==\"+\"):\n",
    "            evalstack.push(evalstack.pop() + evalstack.pop())\n",
    "        elif(val==\"/\"):\n",
    "            evalstack.push((1.0/evalstack.pop()) * evalstack.pop())\n",
    "        elif(val==\"-\"):\n",
    "            evalstack.push(-evalstack.pop() + evalstack.pop())\n",
    "        elif(val=='sqrt'):\n",
    "            evalstack.push(math.sqrt(evalstack.pop()))\n",
    "        else:\n",
    "            evalstack.push(float(val))\n",
    "        print(evalstack.print())\n",
    "\n",
    "postfix_arith_eval('1 2 3 + 4 5 * * +')\n",
    "postfix_arith_eval('1 5 sqrt + 2 /')"
   ]
  },
  {
   "cell_type": "code",
   "execution_count": 3,
   "metadata": {},
   "outputs": [
    {
     "output_type": "stream",
     "name": "stdout",
     "text": "True\nTrue\nFalse\n"
    }
   ],
   "source": [
    "# matching bracket eval\n",
    "\n",
    "def match_bracket_eval(x):\n",
    "    evalstack = Stack()\n",
    "    for i in x:\n",
    "        if(i==']'):\n",
    "            return evalstack.pop()=='['\n",
    "        elif(i=='}'):\n",
    "            return evalstack.pop()=='{'\n",
    "        elif(i==')'):\n",
    "            return evalstack.pop()=='('\n",
    "        else:\n",
    "            evalstack.push(i)\n",
    "\n",
    "print(match_bracket_eval(\"[[()]]\"))\n",
    "print(match_bracket_eval(\"[()]{}{[()()]()}\"))\n",
    "print(match_bracket_eval(\" [(])\"))"
   ]
  },
  {
   "cell_type": "code",
   "execution_count": 19,
   "metadata": {},
   "outputs": [
    {
     "output_type": "stream",
     "name": "stdout",
     "text": "A B +\nA B * C D * +\nA B + C * D E - G G + * -\nA B + C D + *\nA B + C *\nA B C * +\n"
    }
   ],
   "source": [
    "# Infix to Post Fix Algorithm Conversion\n",
    "\n",
    "def infix2postfix(x):\n",
    "    # Defining Order of precedence: PEDMAS\n",
    "    prec={'-':1,'+':2,'*':3,'/':4,'//':4,'%':4,'**':5,'(':0,')':0}\n",
    "\n",
    "    opstack = Stack()\n",
    "    postfixlist = []\n",
    "\n",
    "    for i in x:\n",
    "        if i==')':\n",
    "            while opstack.size()!=0 and opstack.peep()!='(':\n",
    "               postfixlist.append(opstack.pop())\n",
    "            opstack.pop()\n",
    "        elif i=='(':\n",
    "            opstack.push(i)\n",
    "\n",
    "        # Check whether i is alpha-numeric\n",
    "        elif i.isalnum():\n",
    "            postfixlist.append(i)\n",
    "\n",
    "        else:\n",
    "            while(opstack.size()!=0 and prec[opstack.peep()]>prec[i]):\n",
    "                postfixlist.append(opstack.pop())\n",
    "            opstack.push(i)\n",
    "    \n",
    "    while(opstack.size()!=0):\n",
    "        postfixlist.append(opstack.pop())\n",
    "\n",
    "    print(' '.join(postfixlist))\n",
    "\n",
    "infix2postfix('(A+B)')\n",
    "infix2postfix('A*B+C*D')\n",
    "infix2postfix('(A+B)*C-(D-E)*(G+G)')\n",
    "infix2postfix('(A+B)*(C+D)')\n",
    "infix2postfix('(A+B)*C')\n",
    "infix2postfix('A+B*C')\n"
   ]
  },
  {
   "cell_type": "code",
   "execution_count": null,
   "metadata": {},
   "outputs": [],
   "source": []
  }
 ],
 "metadata": {
  "kernelspec": {
   "display_name": "Python 3.7.5 64-bit",
   "language": "python",
   "name": "python37564bit5c14c907bdf14c79a04b8bfc428df43b"
  },
  "language_info": {
   "codemirror_mode": {
    "name": "ipython",
    "version": 3
   },
   "file_extension": ".py",
   "mimetype": "text/x-python",
   "name": "python",
   "nbconvert_exporter": "python",
   "pygments_lexer": "ipython3",
   "version": "3.7.5-final"
  }
 },
 "nbformat": 4,
 "nbformat_minor": 2
}