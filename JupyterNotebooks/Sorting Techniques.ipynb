{
 "cells": [
  {
   "cell_type": "markdown",
   "metadata": {},
   "source": [
    "# Sorting Techniques"
   ]
  },
  {
   "cell_type": "code",
   "execution_count": 47,
   "metadata": {},
   "outputs": [
    {
     "name": "stdout",
     "output_type": "stream",
     "text": [
      "['eqfj', 'zvfu', 'hbso', 'qrdl', 'uusv', 'iuuj', 'niek', 'qevh', 'nzsb', 'cpak', 'qqbp', 'vplu', 'usfs', 'ujzp', 'yuan', 'jwmv', 'aerc', 'dgop', 'iash', 'vlxr', 'yclh', 'ztfo', 'xtbm', 'jahe', 'evln', 'yohj', 'kypx', 'rwcu', 'qapx', 'wfcr', 'qcag', 'qggq', 'etmp', 'ugjt', 'rlfv', 'mvtu', 'iejg', 'btqf', 'hwyo', 'ihgx', 'xbus', 'fibc', 'ccqi', 'umgz', 'yofh', 'gpmt', 'ydho', 'gfke', 'rckm', 'aqlv', 'qncz', 'vijn', 'oddm', 'amly', 'fczb', 'obyg', 'rqkp', 'dbpw', 'dbxt', 'vdai', 'zsue', 'bzvy', 'rdrm', 'fxmw', 'etpq', 'eqew', 'wuph', 'zkyn', 'ryxv', 'asel', 'suiv', 'ejae', 'rjql', 'wpgq', 'eshp', 'xkwv', 'cxrm', 'ffns', 'sgsj', 'zqsx', 'vjfl', 'wjag', 'qjbi', 'ubsz', 'yubb', 'rmnn', 'tgpc', 'ykbe', 'lmak', 'vmti', 'woot', 'mkkj', 'pqgc', 'jtul', 'atyb', 'djwy', 'vgsi', 'pygi', 'lyey', 'jbwz']\n"
     ]
    }
   ],
   "source": [
    "from random import choices\n",
    "from string import ascii_lowercase\n",
    "\n",
    "# Generate 10 Random 4 letter strings\n",
    "word_list = [\"\".join(choices(ascii_lowercase, k=4)) for _ in range(100)]\n",
    "\n",
    "print(word_list)"
   ]
  },
  {
   "cell_type": "code",
   "execution_count": null,
   "metadata": {},
   "outputs": [],
   "source": [
    "#Bubble Sort\n"
   ]
  },
  {
   "cell_type": "code",
   "execution_count": 48,
   "metadata": {},
   "outputs": [
    {
     "name": "stdout",
     "output_type": "stream",
     "text": [
      "['aerc', 'amly', 'aqlv', 'asel', 'atyb', 'btqf', 'bzvy', 'ccqi', 'cpak', 'cxrm', 'dbpw', 'dbxt', 'dgop', 'djwy', 'ejae', 'eqew', 'eqfj', 'eshp', 'etmp', 'etpq', 'evln', 'fczb', 'ffns', 'fibc', 'fxmw', 'gfke', 'gpmt', 'hbso', 'hwyo', 'iash', 'iejg', 'ihgx', 'iuuj', 'jahe', 'jbwz', 'jtul', 'jwmv', 'kypx', 'lmak', 'lyey', 'mkkj', 'mvtu', 'niek', 'nzsb', 'obyg', 'oddm', 'pqgc', 'pygi', 'qapx', 'qcag', 'qevh', 'qggq', 'qjbi', 'qncz', 'qqbp', 'qrdl', 'rckm', 'rdrm', 'rjql', 'rlfv', 'rmnn', 'rqkp', 'rwcu', 'ryxv', 'sgsj', 'suiv', 'tgpc', 'ubsz', 'ugjt', 'ujzp', 'umgz', 'usfs', 'uusv', 'vdai', 'vgsi', 'vijn', 'vjfl', 'vlxr', 'vmti', 'vplu', 'wfcr', 'wjag', 'woot', 'wpgq', 'wuph', 'xbus', 'xkwv', 'xtbm', 'yclh', 'ydho', 'ykbe', 'yofh', 'yohj', 'yuan', 'yubb', 'zkyn', 'zqsx', 'zsue', 'ztfo', 'zvfu']\n"
     ]
    }
   ],
   "source": [
    "# Insertion Sort\n",
    "\n",
    "def insertion_sort(wl):\n",
    "    N=len(wl)\n",
    "    for i in range(1,N):\n",
    "        #print(wl)\n",
    "        for j in range(i,0,-1):\n",
    "            if(wl[j-1]>wl[j]):\n",
    "                wl[j-1],wl[j]=wl[j],wl[j-1]\n",
    "            else:\n",
    "                break\n",
    "\n",
    "insertion_sort(word_list)\n",
    "print(word_list)\n",
    "\n",
    "# Order of Execution: N^2"
   ]
  },
  {
   "cell_type": "code",
   "execution_count": 49,
   "metadata": {},
   "outputs": [
    {
     "name": "stdout",
     "output_type": "stream",
     "text": [
      "['aerc', 'amly', 'aqlv', 'asel', 'atyb', 'btqf', 'bzvy', 'ccqi', 'cpak', 'cxrm', 'dbpw', 'dbxt', 'dgop', 'djwy', 'ejae', 'eqew', 'eqfj', 'eshp', 'etmp', 'etpq', 'evln', 'fczb', 'ffns', 'fibc', 'fxmw', 'gfke', 'gpmt', 'hbso', 'hwyo', 'iash', 'iejg', 'ihgx', 'iuuj', 'jahe', 'jbwz', 'jtul', 'jwmv', 'kypx', 'lmak', 'lyey', 'mkkj', 'mvtu', 'niek', 'nzsb', 'obyg', 'oddm', 'pqgc', 'pygi', 'qapx', 'qcag', 'qevh', 'qggq', 'qjbi', 'qncz', 'qqbp', 'qrdl', 'rckm', 'rdrm', 'rjql', 'rlfv', 'rmnn', 'rqkp', 'rwcu', 'ryxv', 'sgsj', 'suiv', 'tgpc', 'ubsz', 'ugjt', 'ujzp', 'umgz', 'usfs', 'uusv', 'vdai', 'vgsi', 'vijn', 'vjfl', 'vlxr', 'vmti', 'vplu', 'wfcr', 'wjag', 'woot', 'wpgq', 'wuph', 'xbus', 'xkwv', 'xtbm', 'yclh', 'ydho', 'ykbe', 'yofh', 'yohj', 'yuan', 'yubb', 'zkyn', 'zqsx', 'zsue', 'ztfo', 'zvfu']\n"
     ]
    }
   ],
   "source": [
    "# Merge Sort\n",
    "\n",
    "def merge(wl,start,end):\n",
    "    aux=[0]*len(wl)\n",
    "    i=start\n",
    "    mid=start+int((end-start)/2)\n",
    "    j=mid\n",
    "    N=end-start\n",
    "    for k in range(0,N):\n",
    "#         print(k,i,j)\n",
    "#         print(wl[i],wl[j])\n",
    "        if(i==mid):\n",
    "            aux[k]=wl[j]\n",
    "            j +=1\n",
    "        elif(j==end):\n",
    "            aux[k]=wl[i]\n",
    "            i +=1\n",
    "        elif(wl[i]>wl[j]):\n",
    "            aux[k]=wl[j]\n",
    "            j +=1\n",
    "        else:\n",
    "            aux[k]=wl[i]\n",
    "            i +=1\n",
    "        #print(aux)\n",
    "    wl=aux\n",
    "\n",
    "# Test List for Merge Function\n",
    "# wlt=['aewx','fkcs','hqqj','lzyy','ravl','svhf','vpib','cnpb','gjuy', 'jegm','mmbp','oqup','smby','umuv','zbaq']\n",
    "# merge(wlt,0,15)\n",
    "# print(wlt)\n",
    "\n",
    "def merge_sort(wl,start,end):\n",
    "    N=end-start\n",
    "    if(N<=1):\n",
    "        return\n",
    "    mid = start+int(N/2)\n",
    "    merge_sort(wl,start,mid)\n",
    "    merge_sort(wl,mid,end)\n",
    "    merge(wl,start,end)\n",
    "    \n",
    "merge_sort(word_list,0,len(word_list))\n",
    "print(word_list)\n",
    "\n",
    "# Order of Execution: 2N.Log(N) or N.Log(N)\n",
    "# 1.2 billion records -> 20min"
   ]
  },
  {
   "cell_type": "code",
   "execution_count": 56,
   "metadata": {},
   "outputs": [
    {
     "name": "stdout",
     "output_type": "stream",
     "text": [
      "a a c a a g t t t a c a a g c\n"
     ]
    }
   ],
   "source": [
    "# Longest Repeated Sub-String Problem\n",
    "\n",
    "tl = \"a a c a a g t t t a c a a g c g t\".split()\n",
    "tl2 = \"a a c a a g t t t a c a a g c a t c g t t t\".split()\n",
    "\n",
    "# longet common prefix\n",
    "def lcp(str1,str2):\n",
    "    N=min(len(str1),len(str2))\n",
    "    for i in range(N):\n",
    "        if str1[i]!=str2[i]:\n",
    "            return str1[0:i]\n",
    "    return str1[0:N]\n",
    "    \n",
    "print(' '.join(lcp(tl,tl2)))"
   ]
  },
  {
   "cell_type": "code",
   "execution_count": null,
   "metadata": {},
   "outputs": [],
   "source": []
  }
 ],
 "metadata": {
  "kernelspec": {
   "display_name": "Python 3",
   "language": "python",
   "name": "python3"
  },
  "language_info": {
   "codemirror_mode": {
    "name": "ipython",
    "version": 3
   },
   "file_extension": ".py",
   "mimetype": "text/x-python",
   "name": "python",
   "nbconvert_exporter": "python",
   "pygments_lexer": "ipython3",
   "version": "3.7.0"
  }
 },
 "nbformat": 4,
 "nbformat_minor": 2
}
