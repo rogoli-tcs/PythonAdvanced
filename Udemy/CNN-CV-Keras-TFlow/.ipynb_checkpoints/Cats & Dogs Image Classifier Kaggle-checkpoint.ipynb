{
 "cells": [
  {
   "cell_type": "code",
   "execution_count": 38,
   "metadata": {},
   "outputs": [],
   "source": [
    "## Problem Statement\n",
    "# Binary Classification\n",
    "# Colored Images\n",
    "# No Standard Dimension\n",
    "# Kaggle Dataset\n",
    "\n",
    "## Process\n",
    "# CNN with small dataset ~ 70% accuracy\n",
    "# CNN with data augmentation >~ 80% accuracy\n",
    "# Transfer Learning ~ 90% accuracy\n",
    "\n",
    "# Download Dataset from https://drive.google.com/file/d/16AlwTDOeyFaiP3RPxKOk5s80IycK80X4/view"
   ]
  },
  {
   "cell_type": "code",
   "execution_count": 39,
   "metadata": {},
   "outputs": [],
   "source": [
    "import numpy as np\n",
    "import pandas as pd\n",
    "%matplotlib inline\n",
    "import matplotlib as mlt\n",
    "import matplotlib.pyplot as plt"
   ]
  },
  {
   "cell_type": "code",
   "execution_count": 40,
   "metadata": {},
   "outputs": [],
   "source": [
    "import tensorflow as tf\n",
    "from tensorflow import keras"
   ]
  },
  {
   "cell_type": "code",
   "execution_count": 41,
   "metadata": {},
   "outputs": [],
   "source": [
    "train_dir = r'Data Files\\cats_and_dogs_small\\train'\n",
    "validation_dir = r'Data Files\\cats_and_dogs_small\\validation'\n",
    "test_dir = r'Data Files\\cats_and_dogs_small\\test'"
   ]
  },
  {
   "cell_type": "code",
   "execution_count": 42,
   "metadata": {},
   "outputs": [],
   "source": [
    "## Data preprocessing\n",
    "# Read the Picture\n",
    "# Decode the JPEG into RGB grid of pixles\n",
    "# Convert into floating point tensors\n",
    "# Rescale the pixel values(0 to 255) "
   ]
  },
  {
   "cell_type": "code",
   "execution_count": 43,
   "metadata": {},
   "outputs": [],
   "source": [
    "from tensorflow.keras.preprocessing.image import ImageDataGenerator"
   ]
  },
  {
   "cell_type": "code",
   "execution_count": 44,
   "metadata": {},
   "outputs": [],
   "source": [
    "## Links:\n",
    "# https://www.tensorflow.org/api_docs/python/tf/keras/preprocessing/image/ImageDataGenerator\n",
    "# https://keras.io/api/preprocessing/image/"
   ]
  },
  {
   "cell_type": "code",
   "execution_count": 45,
   "metadata": {},
   "outputs": [
    {
     "name": "stdout",
     "output_type": "stream",
     "text": [
      "Found 2000 images belonging to 2 classes.\n",
      "Found 1000 images belonging to 2 classes.\n"
     ]
    }
   ],
   "source": [
    "train_datagen = ImageDataGenerator(rescale=1./255)\n",
    "test_datagen = ImageDataGenerator(rescale=1./255)\n",
    "\n",
    "train_generator = train_datagen.flow_from_directory(train_dir,\n",
    "                                                   target_size=(150,150),\n",
    "                                                   batch_size=20,\n",
    "                                                   class_mode='binary')\n",
    "\n",
    "validation_generator = test_datagen.flow_from_directory(validation_dir,\n",
    "                                                       target_size=(150,150),\n",
    "                                                       batch_size=20,\n",
    "                                                       class_mode='binary')"
   ]
  },
  {
   "cell_type": "code",
   "execution_count": 46,
   "metadata": {},
   "outputs": [],
   "source": [
    "from tensorflow.keras import layers\n",
    "from tensorflow.keras import models"
   ]
  },
  {
   "cell_type": "code",
   "execution_count": 47,
   "metadata": {},
   "outputs": [],
   "source": [
    "model = models.Sequential()\n",
    "\n",
    "model.add(layers.Conv2D(32, (3,3), activation='relu', input_shape=(150,150,3)))\n",
    "model.add(layers.MaxPooling2D((2,2)))\n",
    "\n",
    "model.add(layers.Conv2D(64, (3,3), activation='relu'))\n",
    "model.add(layers.MaxPooling2D((2,2)))\n",
    "\n",
    "model.add(layers.Conv2D(128, (3,3), activation='relu'))\n",
    "model.add(layers.MaxPooling2D((2,2)))\n",
    "\n",
    "model.add(layers.Conv2D(128, (3,3), activation='relu'))\n",
    "model.add(layers.MaxPooling2D((2,2)))\n",
    "\n",
    "model.add(layers.Flatten())\n",
    "\n",
    "model.add(layers.Dense(512, activation='relu'))\n",
    "model.add(layers.Dense(1, activation='sigmoid'))"
   ]
  },
  {
   "cell_type": "code",
   "execution_count": 48,
   "metadata": {},
   "outputs": [
    {
     "name": "stdout",
     "output_type": "stream",
     "text": [
      "Model: \"sequential_1\"\n",
      "_________________________________________________________________\n",
      "Layer (type)                 Output Shape              Param #   \n",
      "=================================================================\n",
      "conv2d_4 (Conv2D)            (None, 148, 148, 32)      896       \n",
      "_________________________________________________________________\n",
      "max_pooling2d_4 (MaxPooling2 (None, 74, 74, 32)        0         \n",
      "_________________________________________________________________\n",
      "conv2d_5 (Conv2D)            (None, 72, 72, 64)        18496     \n",
      "_________________________________________________________________\n",
      "max_pooling2d_5 (MaxPooling2 (None, 36, 36, 64)        0         \n",
      "_________________________________________________________________\n",
      "conv2d_6 (Conv2D)            (None, 34, 34, 128)       73856     \n",
      "_________________________________________________________________\n",
      "max_pooling2d_6 (MaxPooling2 (None, 17, 17, 128)       0         \n",
      "_________________________________________________________________\n",
      "conv2d_7 (Conv2D)            (None, 15, 15, 128)       147584    \n",
      "_________________________________________________________________\n",
      "max_pooling2d_7 (MaxPooling2 (None, 7, 7, 128)         0         \n",
      "_________________________________________________________________\n",
      "flatten_1 (Flatten)          (None, 6272)              0         \n",
      "_________________________________________________________________\n",
      "dense_2 (Dense)              (None, 512)               3211776   \n",
      "_________________________________________________________________\n",
      "dense_3 (Dense)              (None, 1)                 513       \n",
      "=================================================================\n",
      "Total params: 3,453,121\n",
      "Trainable params: 3,453,121\n",
      "Non-trainable params: 0\n",
      "_________________________________________________________________\n"
     ]
    }
   ],
   "source": [
    "model.summary()"
   ]
  },
  {
   "cell_type": "code",
   "execution_count": 49,
   "metadata": {},
   "outputs": [],
   "source": [
    "from tensorflow.keras import optimizers\n",
    "\n",
    "## lr - learning rate ~ 0.0001 = 1e-4\n",
    "\n",
    "model.compile(loss=\"binary_crossentropy\",\n",
    "             optimizer=optimizers.RMSprop(lr=1e-4),\n",
    "             metrics=['acc'])"
   ]
  },
  {
   "cell_type": "code",
   "execution_count": 50,
   "metadata": {},
   "outputs": [
    {
     "name": "stdout",
     "output_type": "stream",
     "text": [
      "Epoch 1/20\n",
      "100/100 [==============================] - 120s 1s/step - loss: 0.6858 - acc: 0.5390 - val_loss: 0.6622 - val_acc: 0.6350\n",
      "Epoch 2/20\n",
      "100/100 [==============================] - 110s 1s/step - loss: 0.6425 - acc: 0.6340 - val_loss: 0.6216 - val_acc: 0.6333\n",
      "Epoch 3/20\n",
      "100/100 [==============================] - 106s 1s/step - loss: 0.5937 - acc: 0.6755 - val_loss: 0.6277 - val_acc: 0.6250\n",
      "Epoch 4/20\n",
      "100/100 [==============================] - 104s 1s/step - loss: 0.5592 - acc: 0.7035 - val_loss: 0.5796 - val_acc: 0.6817\n",
      "Epoch 5/20\n",
      "100/100 [==============================] - 114s 1s/step - loss: 0.5328 - acc: 0.7340 - val_loss: 0.5841 - val_acc: 0.6900\n",
      "Epoch 6/20\n",
      "100/100 [==============================] - 105s 1s/step - loss: 0.5143 - acc: 0.7355 - val_loss: 0.5958 - val_acc: 0.6783\n",
      "Epoch 7/20\n",
      "100/100 [==============================] - 101s 1s/step - loss: 0.4909 - acc: 0.7695 - val_loss: 0.6473 - val_acc: 0.6533\n",
      "Epoch 8/20\n",
      "100/100 [==============================] - 102s 1s/step - loss: 0.4673 - acc: 0.7755 - val_loss: 0.5489 - val_acc: 0.7250\n",
      "Epoch 9/20\n",
      "100/100 [==============================] - 107s 1s/step - loss: 0.4438 - acc: 0.7955 - val_loss: 0.5712 - val_acc: 0.6983\n",
      "Epoch 10/20\n",
      "100/100 [==============================] - 106s 1s/step - loss: 0.4225 - acc: 0.8045 - val_loss: 0.6069 - val_acc: 0.6783\n",
      "Epoch 11/20\n",
      "100/100 [==============================] - 102s 1s/step - loss: 0.4007 - acc: 0.8260 - val_loss: 0.5183 - val_acc: 0.7517\n",
      "Epoch 12/20\n",
      "100/100 [==============================] - 113s 1s/step - loss: 0.3729 - acc: 0.8410 - val_loss: 0.5360 - val_acc: 0.7517\n",
      "Epoch 13/20\n",
      "100/100 [==============================] - 109s 1s/step - loss: 0.3559 - acc: 0.8470 - val_loss: 0.5930 - val_acc: 0.7133\n",
      "Epoch 14/20\n",
      "100/100 [==============================] - 112s 1s/step - loss: 0.3285 - acc: 0.8605 - val_loss: 0.5272 - val_acc: 0.7383\n",
      "Epoch 15/20\n",
      "100/100 [==============================] - 108s 1s/step - loss: 0.3128 - acc: 0.8600 - val_loss: 0.5463 - val_acc: 0.7550\n",
      "Epoch 16/20\n",
      "100/100 [==============================] - 108s 1s/step - loss: 0.2879 - acc: 0.8890 - val_loss: 0.5947 - val_acc: 0.7250\n",
      "Epoch 17/20\n",
      "100/100 [==============================] - 118s 1s/step - loss: 0.2772 - acc: 0.8850 - val_loss: 0.5631 - val_acc: 0.7183\n",
      "Epoch 18/20\n",
      "100/100 [==============================] - 122s 1s/step - loss: 0.2552 - acc: 0.8995 - val_loss: 0.5974 - val_acc: 0.7317\n",
      "Epoch 19/20\n",
      "100/100 [==============================] - 97s 968ms/step - loss: 0.2319 - acc: 0.9085 - val_loss: 0.5475 - val_acc: 0.7517\n",
      "Epoch 20/20\n",
      "100/100 [==============================] - 100s 1s/step - loss: 0.2211 - acc: 0.9170 - val_loss: 0.6218 - val_acc: 0.7383\n"
     ]
    }
   ],
   "source": [
    "history = model.fit_generator(train_generator,\n",
    "                             steps_per_epoch=100,\n",
    "                             epochs=20,\n",
    "                             validation_data=validation_generator,\n",
    "                             validation_steps=30)"
   ]
  },
  {
   "cell_type": "code",
   "execution_count": 51,
   "metadata": {
    "scrolled": true
   },
   "outputs": [
    {
     "data": {
      "image/png": "[encoded data removed]",
      "text/plain": [
       "<Figure size 576x360 with 1 Axes>"
      ]
     },
     "metadata": {
      "needs_background": "light"
     },
     "output_type": "display_data"
    }
   ],
   "source": [
    "pd.DataFrame(history.history).plot(figsize=(8,5))\n",
    "plt.grid(True)\n",
    "plt.gca().set_ylim(0,1)\n",
    "plt.show()\n",
    "### Overfitting - validation accuracy vs accuracy\n",
    "## Need to preprocess images with scale, rotation, shear"
   ]
  },
  {
   "cell_type": "code",
   "execution_count": 52,
   "metadata": {},
   "outputs": [],
   "source": [
    "model.save(\"CatsDogsImageClassifier.h5\")"
   ]
  },
  {
   "cell_type": "code",
   "execution_count": 53,
   "metadata": {},
   "outputs": [],
   "source": [
    "keras.backend.clear_session()\n",
    "del model"
   ]
  },
  {
   "cell_type": "code",
   "execution_count": 54,
   "metadata": {},
   "outputs": [
    {
     "name": "stdout",
     "output_type": "stream",
     "text": [
      "Found 2000 images belonging to 2 classes.\n",
      "Found 1000 images belonging to 2 classes.\n"
     ]
    }
   ],
   "source": [
    "train_datagen = ImageDataGenerator(rescale=1./255,\n",
    "                                  rotation_range=40,\n",
    "                                  width_shift_range=0.2,\n",
    "                                  height_shift_range=0.2,\n",
    "                                  shear_range=0.2,\n",
    "                                  zoom_range=0.2,\n",
    "                                  horizontal_flip=True)\n",
    "\n",
    "test_datagen = ImageDataGenerator(rescale=1./255)\n",
    "\n",
    "train_generator = train_datagen.flow_from_directory(train_dir,\n",
    "                                                   target_size=(150,150),\n",
    "                                                   batch_size=32,\n",
    "                                                   class_mode='binary')\n",
    "\n",
    "validation_generator = test_datagen.flow_from_directory(validation_dir,\n",
    "                                                       target_size=(150,150),\n",
    "                                                       batch_size=32,\n",
    "                                                       class_mode='binary')"
   ]
  },
  {
   "cell_type": "code",
   "execution_count": 55,
   "metadata": {},
   "outputs": [],
   "source": [
    "model = models.Sequential()\n",
    "\n",
    "model.add(layers.Conv2D(32, (3,3), activation='relu', input_shape=(150,150,3)))\n",
    "model.add(layers.MaxPooling2D((2,2)))\n",
    "\n",
    "model.add(layers.Conv2D(64, (3,3), activation='relu'))\n",
    "model.add(layers.MaxPooling2D((2,2)))\n",
    "\n",
    "model.add(layers.Conv2D(128, (3,3), activation='relu'))\n",
    "model.add(layers.MaxPooling2D((2,2)))\n",
    "\n",
    "model.add(layers.Conv2D(128, (3,3), activation='relu'))\n",
    "model.add(layers.MaxPooling2D((2,2)))\n",
    "\n",
    "model.add(layers.Flatten())\n",
    "model.add(layers.Dropout(0.5))\n",
    "\n",
    "model.add(layers.Dense(512, activation='relu'))\n",
    "model.add(layers.Dense(1, activation='sigmoid'))"
   ]
  },
  {
   "cell_type": "code",
   "execution_count": 56,
   "metadata": {},
   "outputs": [],
   "source": [
    "model.compile(loss='binary_crossentropy',\n",
    "             metrics=['acc'],\n",
    "             optimizer=optimizers.RMSprop(lr=1e-4))"
   ]
  },
  {
   "cell_type": "code",
   "execution_count": 60,
   "metadata": {},
   "outputs": [
    {
     "name": "stdout",
     "output_type": "stream",
     "text": [
      "Epoch 1/20\n",
      "62/62 [==============================] - 125s 2s/step - loss: 0.6725 - acc: 0.5666 - val_loss: 0.6624 - val_acc: 0.5837\n",
      "Epoch 2/20\n",
      "62/62 [==============================] - 136s 2s/step - loss: 0.6635 - acc: 0.5899 - val_loss: 0.6448 - val_acc: 0.6079\n",
      "Epoch 3/20\n",
      "62/62 [==============================] - 139s 2s/step - loss: 0.6513 - acc: 0.6220 - val_loss: 0.6374 - val_acc: 0.6159\n",
      "Epoch 4/20\n",
      "62/62 [==============================] - 125s 2s/step - loss: 0.6347 - acc: 0.6316 - val_loss: 0.6610 - val_acc: 0.5524\n",
      "Epoch 5/20\n",
      "62/62 [==============================] - 125s 2s/step - loss: 0.6265 - acc: 0.6529 - val_loss: 0.6102 - val_acc: 0.6663\n",
      "Epoch 6/20\n",
      "62/62 [==============================] - 125s 2s/step - loss: 0.6198 - acc: 0.6438 - val_loss: 0.5916 - val_acc: 0.6885\n",
      "Epoch 7/20\n",
      "62/62 [==============================] - 125s 2s/step - loss: 0.6031 - acc: 0.6682 - val_loss: 0.5984 - val_acc: 0.6623\n",
      "Epoch 8/20\n",
      "62/62 [==============================] - 128s 2s/step - loss: 0.6019 - acc: 0.6657 - val_loss: 0.6185 - val_acc: 0.6492\n",
      "Epoch 9/20\n",
      "62/62 [==============================] - 166s 3s/step - loss: 0.5898 - acc: 0.6717 - val_loss: 0.5758 - val_acc: 0.6855\n",
      "Epoch 10/20\n",
      "62/62 [==============================] - 128s 2s/step - loss: 0.5815 - acc: 0.6880 - val_loss: 0.6043 - val_acc: 0.6633\n",
      "Epoch 11/20\n",
      "62/62 [==============================] - 130s 2s/step - loss: 0.5895 - acc: 0.6758 - val_loss: 0.5568 - val_acc: 0.7046\n",
      "Epoch 12/20\n",
      "62/62 [==============================] - 130s 2s/step - loss: 0.5759 - acc: 0.6972 - val_loss: 0.5599 - val_acc: 0.6996\n",
      "Epoch 13/20\n",
      "62/62 [==============================] - 129s 2s/step - loss: 0.5838 - acc: 0.6779 - val_loss: 0.5476 - val_acc: 0.7157\n",
      "Epoch 14/20\n",
      "62/62 [==============================] - 126s 2s/step - loss: 0.5742 - acc: 0.6992 - val_loss: 0.5349 - val_acc: 0.7167\n",
      "Epoch 15/20\n",
      "62/62 [==============================] - 127s 2s/step - loss: 0.5680 - acc: 0.7063 - val_loss: 0.5328 - val_acc: 0.7248\n",
      "Epoch 16/20\n",
      "62/62 [==============================] - 125s 2s/step - loss: 0.5667 - acc: 0.6870 - val_loss: 0.5335 - val_acc: 0.7248\n",
      "Epoch 17/20\n",
      "62/62 [==============================] - 125s 2s/step - loss: 0.5643 - acc: 0.7160 - val_loss: 0.5729 - val_acc: 0.6825\n",
      "Epoch 18/20\n",
      "62/62 [==============================] - 132s 2s/step - loss: 0.5479 - acc: 0.7190 - val_loss: 0.5337 - val_acc: 0.7137\n",
      "Epoch 19/20\n",
      "62/62 [==============================] - 125s 2s/step - loss: 0.5548 - acc: 0.7109 - val_loss: 0.5383 - val_acc: 0.7288\n",
      "Epoch 20/20\n",
      "62/62 [==============================] - 129s 2s/step - loss: 0.5396 - acc: 0.7256 - val_loss: 0.5304 - val_acc: 0.7248\n"
     ]
    }
   ],
   "source": [
    "history = model.fit_generator(train_generator,\n",
    "                             steps_per_epoch=62,\n",
    "                             epochs=20,\n",
    "                             validation_data=validation_generator,\n",
    "                             validation_steps=31)"
   ]
  },
  {
   "cell_type": "code",
   "execution_count": 61,
   "metadata": {},
   "outputs": [
    {
     "data": {
      "image/png": "[encoded data removed]",
      "text/plain": [
       "<Figure size 576x360 with 1 Axes>"
      ]
     },
     "metadata": {
      "needs_background": "light"
     },
     "output_type": "display_data"
    }
   ],
   "source": [
    "pd.DataFrame(history.history).plot(figsize=(8,5))\n",
    "plt.grid(True)\n",
    "plt.gca().set_ylim(0,1)\n",
    "plt.show()"
   ]
  },
  {
   "cell_type": "code",
   "execution_count": 63,
   "metadata": {},
   "outputs": [
    {
     "name": "stdout",
     "output_type": "stream",
     "text": [
      "Epoch 1/100\n",
      "62/62 [==============================] - 158s 3s/step - loss: 0.5470 - acc: 0.7195 - val_loss: 0.5734 - val_acc: 0.6966\n",
      "Epoch 2/100\n",
      "62/62 [==============================] - 132s 2s/step - loss: 0.5326 - acc: 0.7271 - val_loss: 0.5264 - val_acc: 0.7389\n",
      "Epoch 3/100\n",
      "62/62 [==============================] - 130s 2s/step - loss: 0.5353 - acc: 0.7307 - val_loss: 0.5672 - val_acc: 0.7198\n",
      "Epoch 4/100\n",
      "62/62 [==============================] - 131s 2s/step - loss: 0.5346 - acc: 0.7312 - val_loss: 0.5079 - val_acc: 0.7510\n",
      "Epoch 5/100\n",
      "62/62 [==============================] - 127s 2s/step - loss: 0.5250 - acc: 0.7383 - val_loss: 0.5010 - val_acc: 0.7581\n",
      "Epoch 6/100\n",
      "62/62 [==============================] - 124s 2s/step - loss: 0.5328 - acc: 0.7332 - val_loss: 0.5170 - val_acc: 0.7329\n",
      "Epoch 7/100\n",
      "62/62 [==============================] - 125s 2s/step - loss: 0.5126 - acc: 0.7551 - val_loss: 0.4931 - val_acc: 0.7540\n",
      "Epoch 8/100\n",
      "62/62 [==============================] - 124s 2s/step - loss: 0.5282 - acc: 0.7378 - val_loss: 0.5009 - val_acc: 0.7560\n",
      "Epoch 9/100\n",
      "62/62 [==============================] - 126s 2s/step - loss: 0.5238 - acc: 0.7342 - val_loss: 0.5028 - val_acc: 0.7500\n",
      "Epoch 10/100\n",
      "62/62 [==============================] - 129s 2s/step - loss: 0.5254 - acc: 0.7327 - val_loss: 0.4930 - val_acc: 0.7550\n",
      "Epoch 11/100\n",
      "62/62 [==============================] - 131s 2s/step - loss: 0.5190 - acc: 0.7414 - val_loss: 0.4952 - val_acc: 0.7560\n",
      "Epoch 12/100\n",
      "62/62 [==============================] - 130s 2s/step - loss: 0.5193 - acc: 0.7444 - val_loss: 0.5077 - val_acc: 0.7399\n",
      "Epoch 13/100\n",
      "62/62 [==============================] - 130s 2s/step - loss: 0.5137 - acc: 0.7409 - val_loss: 0.4982 - val_acc: 0.7450\n",
      "Epoch 14/100\n",
      "62/62 [==============================] - 135s 2s/step - loss: 0.5296 - acc: 0.7342 - val_loss: 0.4809 - val_acc: 0.7752\n",
      "Epoch 15/100\n",
      "62/62 [==============================] - 154s 2s/step - loss: 0.4973 - acc: 0.7551 - val_loss: 0.4880 - val_acc: 0.7581\n",
      "Epoch 16/100\n",
      "62/62 [==============================] - 127s 2s/step - loss: 0.5025 - acc: 0.7556 - val_loss: 0.5116 - val_acc: 0.7520\n",
      "Epoch 17/100\n",
      "62/62 [==============================] - 156s 3s/step - loss: 0.5154 - acc: 0.7409 - val_loss: 0.4744 - val_acc: 0.7752\n",
      "Epoch 18/100\n",
      "62/62 [==============================] - 167s 3s/step - loss: 0.4997 - acc: 0.7490 - val_loss: 0.4936 - val_acc: 0.7550\n",
      "Epoch 19/100\n",
      "62/62 [==============================] - 165s 3s/step - loss: 0.4948 - acc: 0.7713 - val_loss: 0.4703 - val_acc: 0.7772\n",
      "Epoch 20/100\n",
      "62/62 [==============================] - 130s 2s/step - loss: 0.4883 - acc: 0.7632 - val_loss: 0.4665 - val_acc: 0.7762\n",
      "Epoch 21/100\n",
      "62/62 [==============================] - 125s 2s/step - loss: 0.5007 - acc: 0.7495 - val_loss: 0.4785 - val_acc: 0.7651\n",
      "Epoch 22/100\n",
      "62/62 [==============================] - 126s 2s/step - loss: 0.4948 - acc: 0.7581 - val_loss: 0.5207 - val_acc: 0.7369\n",
      "Epoch 23/100\n",
      "62/62 [==============================] - 126s 2s/step - loss: 0.4768 - acc: 0.7688 - val_loss: 0.4601 - val_acc: 0.7893\n",
      "Epoch 24/100\n",
      "62/62 [==============================] - 129s 2s/step - loss: 0.4796 - acc: 0.7688 - val_loss: 0.4731 - val_acc: 0.7611\n",
      "Epoch 25/100\n",
      "62/62 [==============================] - 125s 2s/step - loss: 0.4804 - acc: 0.7678 - val_loss: 0.4796 - val_acc: 0.7651\n",
      "Epoch 26/100\n",
      "62/62 [==============================] - 125s 2s/step - loss: 0.4824 - acc: 0.7658 - val_loss: 0.4710 - val_acc: 0.7762\n",
      "Epoch 27/100\n",
      "62/62 [==============================] - 136s 2s/step - loss: 0.4797 - acc: 0.7759 - val_loss: 0.4871 - val_acc: 0.7480\n",
      "Epoch 28/100\n",
      "62/62 [==============================] - 152s 2s/step - loss: 0.4745 - acc: 0.7663 - val_loss: 0.4665 - val_acc: 0.7903\n",
      "Epoch 29/100\n",
      "62/62 [==============================] - 129s 2s/step - loss: 0.4599 - acc: 0.7718 - val_loss: 0.4951 - val_acc: 0.7631\n",
      "Epoch 30/100\n",
      "62/62 [==============================] - 129s 2s/step - loss: 0.4751 - acc: 0.7734 - val_loss: 0.4758 - val_acc: 0.7762\n",
      "Epoch 31/100\n",
      "62/62 [==============================] - 127s 2s/step - loss: 0.4728 - acc: 0.7729 - val_loss: 0.4686 - val_acc: 0.7823\n",
      "Epoch 32/100\n",
      "62/62 [==============================] - 130s 2s/step - loss: 0.4696 - acc: 0.7764 - val_loss: 0.4914 - val_acc: 0.7712\n",
      "Epoch 33/100\n",
      "62/62 [==============================] - 125s 2s/step - loss: 0.4552 - acc: 0.7846 - val_loss: 0.5425 - val_acc: 0.7440\n",
      "Epoch 34/100\n",
      "62/62 [==============================] - 125s 2s/step - loss: 0.4779 - acc: 0.7683 - val_loss: 0.4964 - val_acc: 0.7611\n",
      "Epoch 35/100\n",
      "62/62 [==============================] - 125s 2s/step - loss: 0.4686 - acc: 0.7825 - val_loss: 0.4507 - val_acc: 0.7913\n",
      "Epoch 36/100\n",
      "62/62 [==============================] - 127s 2s/step - loss: 0.4653 - acc: 0.7713 - val_loss: 0.4969 - val_acc: 0.7550\n",
      "Epoch 37/100\n",
      "62/62 [==============================] - 125s 2s/step - loss: 0.4585 - acc: 0.7764 - val_loss: 0.4719 - val_acc: 0.7772\n",
      "Epoch 38/100\n",
      "62/62 [==============================] - 126s 2s/step - loss: 0.4624 - acc: 0.7744 - val_loss: 0.4787 - val_acc: 0.7742\n",
      "Epoch 39/100\n",
      "62/62 [==============================] - 126s 2s/step - loss: 0.4610 - acc: 0.7810 - val_loss: 0.4359 - val_acc: 0.8065\n",
      "Epoch 40/100\n",
      "62/62 [==============================] - 125s 2s/step - loss: 0.4604 - acc: 0.7795 - val_loss: 0.4971 - val_acc: 0.7692\n",
      "Epoch 41/100\n",
      "62/62 [==============================] - 142s 2s/step - loss: 0.4539 - acc: 0.7907 - val_loss: 0.4624 - val_acc: 0.7772\n",
      "Epoch 42/100\n",
      "62/62 [==============================] - 144s 2s/step - loss: 0.4517 - acc: 0.7805 - val_loss: 0.4593 - val_acc: 0.7873\n",
      "Epoch 43/100\n",
      "62/62 [==============================] - 125s 2s/step - loss: 0.4563 - acc: 0.7866 - val_loss: 0.4494 - val_acc: 0.7883\n",
      "Epoch 44/100\n",
      "62/62 [==============================] - 126s 2s/step - loss: 0.4486 - acc: 0.7937 - val_loss: 0.4453 - val_acc: 0.8004\n",
      "Epoch 45/100\n",
      "62/62 [==============================] - 126s 2s/step - loss: 0.4384 - acc: 0.7993 - val_loss: 0.5241 - val_acc: 0.7560\n",
      "Epoch 46/100\n",
      "62/62 [==============================] - 125s 2s/step - loss: 0.4331 - acc: 0.7871 - val_loss: 0.4745 - val_acc: 0.7772\n",
      "Epoch 47/100\n",
      "62/62 [==============================] - 128s 2s/step - loss: 0.4303 - acc: 0.8059 - val_loss: 0.4837 - val_acc: 0.7681\n",
      "Epoch 48/100\n",
      "62/62 [==============================] - 127s 2s/step - loss: 0.4402 - acc: 0.7907 - val_loss: 0.6540 - val_acc: 0.7016\n",
      "Epoch 49/100\n",
      "62/62 [==============================] - 124s 2s/step - loss: 0.4514 - acc: 0.7896 - val_loss: 0.4935 - val_acc: 0.7621\n",
      "Epoch 50/100\n",
      "62/62 [==============================] - 125s 2s/step - loss: 0.4366 - acc: 0.8008 - val_loss: 0.4489 - val_acc: 0.7954\n",
      "Epoch 51/100\n",
      "62/62 [==============================] - 125s 2s/step - loss: 0.4392 - acc: 0.8008 - val_loss: 0.4964 - val_acc: 0.7772\n",
      "Epoch 52/100\n",
      "62/62 [==============================] - 124s 2s/step - loss: 0.4388 - acc: 0.8003 - val_loss: 0.4402 - val_acc: 0.8085\n",
      "Epoch 53/100\n",
      "62/62 [==============================] - 124s 2s/step - loss: 0.4280 - acc: 0.8039 - val_loss: 0.4832 - val_acc: 0.7903\n",
      "Epoch 54/100\n",
      "62/62 [==============================] - 124s 2s/step - loss: 0.4458 - acc: 0.7866 - val_loss: 0.4696 - val_acc: 0.7974\n",
      "Epoch 55/100\n",
      "62/62 [==============================] - 143s 2s/step - loss: 0.4365 - acc: 0.7983 - val_loss: 0.5015 - val_acc: 0.7490\n",
      "Epoch 56/100\n",
      "62/62 [==============================] - 141s 2s/step - loss: 0.4375 - acc: 0.7988 - val_loss: 0.4546 - val_acc: 0.7732\n",
      "Epoch 57/100\n",
      "62/62 [==============================] - 124s 2s/step - loss: 0.4282 - acc: 0.8089 - val_loss: 0.4452 - val_acc: 0.8095\n",
      "Epoch 58/100\n",
      "62/62 [==============================] - 125s 2s/step - loss: 0.4214 - acc: 0.7973 - val_loss: 0.4159 - val_acc: 0.8075\n",
      "Epoch 59/100\n",
      "62/62 [==============================] - 131s 2s/step - loss: 0.4385 - acc: 0.7957 - val_loss: 0.4408 - val_acc: 0.7913\n",
      "Epoch 60/100\n",
      "62/62 [==============================] - 138s 2s/step - loss: 0.4166 - acc: 0.8023 - val_loss: 0.4940 - val_acc: 0.7722\n",
      "Epoch 61/100\n",
      "62/62 [==============================] - 140s 2s/step - loss: 0.4252 - acc: 0.8003 - val_loss: 0.4571 - val_acc: 0.8024\n",
      "Epoch 62/100\n"
     ]
    },
    {
     "name": "stdout",
     "output_type": "stream",
     "text": [
      "62/62 [==============================] - 133s 2s/step - loss: 0.4053 - acc: 0.8140 - val_loss: 0.4697 - val_acc: 0.7944\n",
      "Epoch 63/100\n",
      "62/62 [==============================] - 139s 2s/step - loss: 0.4239 - acc: 0.8110 - val_loss: 0.4434 - val_acc: 0.7933\n",
      "Epoch 64/100\n",
      "62/62 [==============================] - 129s 2s/step - loss: 0.4180 - acc: 0.8090 - val_loss: 0.4420 - val_acc: 0.8044\n",
      "Epoch 65/100\n",
      "62/62 [==============================] - 131s 2s/step - loss: 0.4092 - acc: 0.8079 - val_loss: 0.6376 - val_acc: 0.6956\n",
      "Epoch 66/100\n",
      "62/62 [==============================] - 130s 2s/step - loss: 0.4272 - acc: 0.8034 - val_loss: 0.4633 - val_acc: 0.7994\n",
      "Epoch 67/100\n",
      "62/62 [==============================] - 129s 2s/step - loss: 0.4152 - acc: 0.8095 - val_loss: 0.4812 - val_acc: 0.7823\n",
      "Epoch 68/100\n",
      "62/62 [==============================] - 133s 2s/step - loss: 0.4065 - acc: 0.8150 - val_loss: 0.4611 - val_acc: 0.8014\n",
      "Epoch 69/100\n",
      "62/62 [==============================] - 131s 2s/step - loss: 0.4126 - acc: 0.8064 - val_loss: 0.4327 - val_acc: 0.8206\n",
      "Epoch 70/100\n",
      "62/62 [==============================] - 133s 2s/step - loss: 0.4099 - acc: 0.8140 - val_loss: 0.4403 - val_acc: 0.7944\n",
      "Epoch 71/100\n",
      "62/62 [==============================] - 133s 2s/step - loss: 0.3870 - acc: 0.8308 - val_loss: 0.6393 - val_acc: 0.7389\n",
      "Epoch 72/100\n",
      "62/62 [==============================] - 132s 2s/step - loss: 0.4104 - acc: 0.8145 - val_loss: 0.5988 - val_acc: 0.7278\n",
      "Epoch 73/100\n",
      "62/62 [==============================] - 132s 2s/step - loss: 0.4171 - acc: 0.8130 - val_loss: 0.4604 - val_acc: 0.7923\n",
      "Epoch 74/100\n",
      "62/62 [==============================] - 132s 2s/step - loss: 0.3946 - acc: 0.8181 - val_loss: 0.4638 - val_acc: 0.7853\n",
      "Epoch 75/100\n",
      "62/62 [==============================] - 140s 2s/step - loss: 0.4018 - acc: 0.8206 - val_loss: 0.4498 - val_acc: 0.8004\n",
      "Epoch 76/100\n",
      "62/62 [==============================] - 136s 2s/step - loss: 0.4067 - acc: 0.8049 - val_loss: 0.4271 - val_acc: 0.8044\n",
      "Epoch 77/100\n",
      "62/62 [==============================] - 158s 3s/step - loss: 0.3847 - acc: 0.8161 - val_loss: 0.4431 - val_acc: 0.8044\n",
      "Epoch 78/100\n",
      "62/62 [==============================] - 140s 2s/step - loss: 0.4083 - acc: 0.8247 - val_loss: 0.4177 - val_acc: 0.8236\n",
      "Epoch 79/100\n",
      "62/62 [==============================] - 131s 2s/step - loss: 0.4027 - acc: 0.8150 - val_loss: 0.4178 - val_acc: 0.8256\n",
      "Epoch 80/100\n",
      "62/62 [==============================] - 130s 2s/step - loss: 0.3950 - acc: 0.8277 - val_loss: 0.4459 - val_acc: 0.8175\n",
      "Epoch 81/100\n",
      "62/62 [==============================] - 130s 2s/step - loss: 0.4114 - acc: 0.8166 - val_loss: 0.4589 - val_acc: 0.8034\n",
      "Epoch 82/100\n",
      "62/62 [==============================] - 147s 2s/step - loss: 0.3807 - acc: 0.8313 - val_loss: 0.4492 - val_acc: 0.8135\n",
      "Epoch 83/100\n",
      "62/62 [==============================] - 137s 2s/step - loss: 0.3979 - acc: 0.8161 - val_loss: 0.4440 - val_acc: 0.8095\n",
      "Epoch 84/100\n",
      "62/62 [==============================] - 134s 2s/step - loss: 0.4022 - acc: 0.8150 - val_loss: 0.4518 - val_acc: 0.7913\n",
      "Epoch 85/100\n",
      "62/62 [==============================] - 131s 2s/step - loss: 0.3999 - acc: 0.8150 - val_loss: 0.4444 - val_acc: 0.7944\n",
      "Epoch 86/100\n",
      "62/62 [==============================] - 133s 2s/step - loss: 0.3933 - acc: 0.8216 - val_loss: 0.4409 - val_acc: 0.8155\n",
      "Epoch 87/100\n",
      "62/62 [==============================] - 129s 2s/step - loss: 0.3820 - acc: 0.8308 - val_loss: 0.4589 - val_acc: 0.7954\n",
      "Epoch 88/100\n",
      "62/62 [==============================] - 144s 2s/step - loss: 0.3954 - acc: 0.8257 - val_loss: 0.4567 - val_acc: 0.8044\n",
      "Epoch 89/100\n",
      "62/62 [==============================] - 152s 2s/step - loss: 0.3674 - acc: 0.8298 - val_loss: 0.4141 - val_acc: 0.8196\n",
      "Epoch 90/100\n",
      "62/62 [==============================] - 130s 2s/step - loss: 0.3731 - acc: 0.8359 - val_loss: 0.4246 - val_acc: 0.8115\n",
      "Epoch 91/100\n",
      "62/62 [==============================] - 130s 2s/step - loss: 0.3751 - acc: 0.8257 - val_loss: 0.4526 - val_acc: 0.8044\n",
      "Epoch 92/100\n",
      "62/62 [==============================] - 130s 2s/step - loss: 0.3881 - acc: 0.8333 - val_loss: 0.4204 - val_acc: 0.8206\n",
      "Epoch 93/100\n",
      "62/62 [==============================] - 139s 2s/step - loss: 0.3845 - acc: 0.8242 - val_loss: 0.4727 - val_acc: 0.7954\n",
      "Epoch 94/100\n",
      "62/62 [==============================] - 130s 2s/step - loss: 0.3898 - acc: 0.8272 - val_loss: 0.4293 - val_acc: 0.8135\n",
      "Epoch 95/100\n",
      "62/62 [==============================] - 133s 2s/step - loss: 0.3755 - acc: 0.8328 - val_loss: 0.4346 - val_acc: 0.8165\n",
      "Epoch 96/100\n",
      "62/62 [==============================] - 156s 3s/step - loss: 0.3750 - acc: 0.8430 - val_loss: 0.4776 - val_acc: 0.7833\n",
      "Epoch 97/100\n",
      "62/62 [==============================] - 132s 2s/step - loss: 0.3725 - acc: 0.8399 - val_loss: 0.6346 - val_acc: 0.7198\n",
      "Epoch 98/100\n",
      "62/62 [==============================] - 129s 2s/step - loss: 0.3672 - acc: 0.8394 - val_loss: 0.4158 - val_acc: 0.8085\n",
      "Epoch 99/100\n",
      "62/62 [==============================] - 133s 2s/step - loss: 0.3507 - acc: 0.8425 - val_loss: 0.4551 - val_acc: 0.7913\n",
      "Epoch 100/100\n",
      "62/62 [==============================] - 130s 2s/step - loss: 0.3584 - acc: 0.8460 - val_loss: 0.4435 - val_acc: 0.8125\n"
     ]
    },
    {
     "data": {
      "image/png": "[encoded data removed]",
      "text/plain": [
       "<Figure size 576x360 with 1 Axes>"
      ]
     },
     "metadata": {
      "needs_background": "light"
     },
     "output_type": "display_data"
    }
   ],
   "source": [
    "history = model.fit_generator(train_generator,\n",
    "                             steps_per_epoch=62,\n",
    "                             epochs=100,\n",
    "                             validation_data=validation_generator,\n",
    "                             validation_steps=31)\n",
    "pd.DataFrame(history.history).plot(figsize=(8,5))\n",
    "plt.grid(True)\n",
    "plt.gca().set_ylim(0,1)\n",
    "plt.show()"
   ]
  },
  {
   "cell_type": "code",
   "execution_count": null,
   "metadata": {},
   "outputs": [],
   "source": []
  }
 ],
 "metadata": {
  "kernelspec": {
   "display_name": "Python 3",
   "language": "python",
   "name": "python3"
  },
  "language_info": {
   "codemirror_mode": {
    "name": "ipython",
    "version": 3
   },
   "file_extension": ".py",
   "mimetype": "text/x-python",
   "name": "python",
   "nbconvert_exporter": "python",
   "pygments_lexer": "ipython3",
   "version": "3.8.5"
  }
 },
 "nbformat": 4,
 "nbformat_minor": 4
}
