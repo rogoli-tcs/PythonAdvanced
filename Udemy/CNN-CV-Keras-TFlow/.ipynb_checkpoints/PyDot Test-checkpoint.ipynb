{
 "cells": [
  {
   "cell_type": "code",
   "execution_count": 3,
   "metadata": {},
   "outputs": [],
   "source": [
    "import pydot\n",
    "graph = pydot.Dot(graph_type='digraph')\n",
    "node_a = pydot.Node(\"Node A\", style=\"filled\", fillcolor=\"red\")\n",
    "node_b = pydot.Node(\"Node B\", style=\"filled\", fillcolor=\"green\")\n",
    "node_c = pydot.Node(\"Node C\", style=\"filled\", fillcolor=\"#0000ff\")\n",
    "node_d = pydot.Node(\"Node D\", style=\"filled\", fillcolor=\"#976856\")\n",
    "graph.add_node(node_a)\n",
    "graph.add_node(node_b)\n",
    "graph.add_node(node_c)\n",
    "graph.add_node(node_d)\n",
    "graph.add_edge(pydot.Edge(node_a, node_b))\n",
    "graph.add_edge(pydot.Edge(node_b, node_c))\n",
    "graph.add_edge(pydot.Edge(node_c, node_d))\n",
    "graph.add_edge(pydot.Edge(node_d, node_a, label=\"and back we go again\", labelfontcolor=\"#009933\", fontsize=\"10.0\", color=\"blue\"))\n",
    "graph.write_png('C:\\DataDrive\\example2_graph.png')"
   ]
  },
  {
   "cell_type": "code",
   "execution_count": null,
   "metadata": {},
   "outputs": [],
   "source": []
  }
 ],
 "metadata": {
  "kernelspec": {
   "display_name": "Python 3",
   "language": "python",
   "name": "python3"
  },
  "language_info": {
   "codemirror_mode": {
    "name": "ipython",
    "version": 3
   },
   "file_extension": ".py",
   "mimetype": "text/x-python",
   "name": "python",
   "nbconvert_exporter": "python",
   "pygments_lexer": "ipython3",
   "version": "3.8.5"
  }
 },
 "nbformat": 4,
 "nbformat_minor": 4
}
