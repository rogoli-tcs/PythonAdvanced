{
 "cells": [
  {
   "cell_type": "code",
   "execution_count": 1,
   "metadata": {},
   "outputs": [],
   "source": [
    "import numpy as np\n",
    "import pandas as pd\n",
    "%matplotlib inline\n",
    "import matplotlib as mlt\n",
    "import matplotlib.pyplot as plt"
   ]
  },
  {
   "cell_type": "code",
   "execution_count": 2,
   "metadata": {},
   "outputs": [],
   "source": [
    "import tensorflow as tf\n",
    "from tensorflow import keras"
   ]
  },
  {
   "cell_type": "code",
   "execution_count": 3,
   "metadata": {},
   "outputs": [],
   "source": [
    "train_dir = r'Data Files\\cats_and_dogs_small\\train'\n",
    "validation_dir = r'Data Files\\cats_and_dogs_small\\validation'\n",
    "test_dir = r'Data Files\\cats_and_dogs_small\\test'"
   ]
  },
  {
   "cell_type": "code",
   "execution_count": 5,
   "metadata": {},
   "outputs": [
    {
     "name": "stdout",
     "output_type": "stream",
     "text": [
      "Found 2000 images belonging to 2 classes.\n",
      "Found 1000 images belonging to 2 classes.\n"
     ]
    }
   ],
   "source": [
    "from tensorflow.keras.preprocessing.image import ImageDataGenerator\n",
    "\n",
    "train_datagen = ImageDataGenerator(rescale=1./255,\n",
    "                                  rotation_range=40,\n",
    "                                  width_shift_range=0.2,\n",
    "                                  height_shift_range=0.2,\n",
    "                                  shear_range=0.2,\n",
    "                                  zoom_range=0.2,\n",
    "                                  horizontal_flip=True)\n",
    "\n",
    "test_datagen = ImageDataGenerator(rescale=1./255)\n",
    "\n",
    "train_generator = train_datagen.flow_from_directory(train_dir,\n",
    "                                                   target_size=(150,150),\n",
    "                                                   batch_size=20,\n",
    "                                                   class_mode='binary')\n",
    "\n",
    "validation_generator = test_datagen.flow_from_directory(validation_dir,\n",
    "                                                   target_size=(150,150),\n",
    "                                                   batch_size=20,\n",
    "                                                   class_mode='binary')"
   ]
  },
  {
   "cell_type": "code",
   "execution_count": 6,
   "metadata": {},
   "outputs": [
    {
     "name": "stdout",
     "output_type": "stream",
     "text": [
      "Downloading data from https://storage.googleapis.com/tensorflow/keras-applications/vgg16/vgg16_weights_tf_dim_ordering_tf_kernels_notop.h5\n",
      "58892288/58889256 [==============================] - 9s 0us/step\n"
     ]
    }
   ],
   "source": [
    "## Using Convolution Base as VGG16 as Classification Layer\n",
    "\n",
    "from tensorflow.keras.applications import VGG16\n",
    "\n",
    "conv_base = VGG16(weights='imagenet',\n",
    "                 include_top=False,\n",
    "                 input_shape=(150,150,3))"
   ]
  },
  {
   "cell_type": "code",
   "execution_count": 7,
   "metadata": {},
   "outputs": [
    {
     "name": "stdout",
     "output_type": "stream",
     "text": [
      "Model: \"vgg16\"\n",
      "_________________________________________________________________\n",
      "Layer (type)                 Output Shape              Param #   \n",
      "=================================================================\n",
      "input_1 (InputLayer)         [(None, 150, 150, 3)]     0         \n",
      "_________________________________________________________________\n",
      "block1_conv1 (Conv2D)        (None, 150, 150, 64)      1792      \n",
      "_________________________________________________________________\n",
      "block1_conv2 (Conv2D)        (None, 150, 150, 64)      36928     \n",
      "_________________________________________________________________\n",
      "block1_pool (MaxPooling2D)   (None, 75, 75, 64)        0         \n",
      "_________________________________________________________________\n",
      "block2_conv1 (Conv2D)        (None, 75, 75, 128)       73856     \n",
      "_________________________________________________________________\n",
      "block2_conv2 (Conv2D)        (None, 75, 75, 128)       147584    \n",
      "_________________________________________________________________\n",
      "block2_pool (MaxPooling2D)   (None, 37, 37, 128)       0         \n",
      "_________________________________________________________________\n",
      "block3_conv1 (Conv2D)        (None, 37, 37, 256)       295168    \n",
      "_________________________________________________________________\n",
      "block3_conv2 (Conv2D)        (None, 37, 37, 256)       590080    \n",
      "_________________________________________________________________\n",
      "block3_conv3 (Conv2D)        (None, 37, 37, 256)       590080    \n",
      "_________________________________________________________________\n",
      "block3_pool (MaxPooling2D)   (None, 18, 18, 256)       0         \n",
      "_________________________________________________________________\n",
      "block4_conv1 (Conv2D)        (None, 18, 18, 512)       1180160   \n",
      "_________________________________________________________________\n",
      "block4_conv2 (Conv2D)        (None, 18, 18, 512)       2359808   \n",
      "_________________________________________________________________\n",
      "block4_conv3 (Conv2D)        (None, 18, 18, 512)       2359808   \n",
      "_________________________________________________________________\n",
      "block4_pool (MaxPooling2D)   (None, 9, 9, 512)         0         \n",
      "_________________________________________________________________\n",
      "block5_conv1 (Conv2D)        (None, 9, 9, 512)         2359808   \n",
      "_________________________________________________________________\n",
      "block5_conv2 (Conv2D)        (None, 9, 9, 512)         2359808   \n",
      "_________________________________________________________________\n",
      "block5_conv3 (Conv2D)        (None, 9, 9, 512)         2359808   \n",
      "_________________________________________________________________\n",
      "block5_pool (MaxPooling2D)   (None, 4, 4, 512)         0         \n",
      "=================================================================\n",
      "Total params: 14,714,688\n",
      "Trainable params: 14,714,688\n",
      "Non-trainable params: 0\n",
      "_________________________________________________________________\n"
     ]
    }
   ],
   "source": [
    "conv_base.summary()"
   ]
  },
  {
   "cell_type": "code",
   "execution_count": 8,
   "metadata": {},
   "outputs": [],
   "source": [
    "from tensorflow.keras import models\n",
    "from tensorflow.keras import layers\n",
    "\n",
    "model = models.Sequential()\n",
    "model.add(conv_base)\n",
    "model.add(layers.Flatten())\n",
    "model.add(layers.Dense(256, activation='relu'))\n",
    "model.add(layers.Dense(1, activation='sigmoid'))"
   ]
  },
  {
   "cell_type": "code",
   "execution_count": 9,
   "metadata": {},
   "outputs": [
    {
     "name": "stdout",
     "output_type": "stream",
     "text": [
      "Model: \"sequential\"\n",
      "_________________________________________________________________\n",
      "Layer (type)                 Output Shape              Param #   \n",
      "=================================================================\n",
      "vgg16 (Functional)           (None, 4, 4, 512)         14714688  \n",
      "_________________________________________________________________\n",
      "flatten (Flatten)            (None, 8192)              0         \n",
      "_________________________________________________________________\n",
      "dense (Dense)                (None, 256)               2097408   \n",
      "_________________________________________________________________\n",
      "dense_1 (Dense)              (None, 1)                 257       \n",
      "=================================================================\n",
      "Total params: 16,812,353\n",
      "Trainable params: 16,812,353\n",
      "Non-trainable params: 0\n",
      "_________________________________________________________________\n"
     ]
    }
   ],
   "source": [
    "model.summary()"
   ]
  },
  {
   "cell_type": "code",
   "execution_count": 11,
   "metadata": {},
   "outputs": [],
   "source": [
    "## No recalcution for weights 16M -> 2M\n",
    "# conv_base.trainable = False"
   ]
  },
  {
   "cell_type": "code",
   "execution_count": 12,
   "metadata": {},
   "outputs": [],
   "source": [
    "from tensorflow.keras import optimizers\n",
    "\n",
    "model.compile(loss='binary_crossentropy',\n",
    "             optimizer=optimizers.RMSprop(lr=2e-5),\n",
    "             metrics=['acc'])"
   ]
  },
  {
   "cell_type": "code",
   "execution_count": 13,
   "metadata": {},
   "outputs": [],
   "source": [
    "checkpoint_cb = keras.callbacks.ModelCheckpoint('VGG166-{epoch:02d}.h5', save_best_only=True)"
   ]
  },
  {
   "cell_type": "code",
   "execution_count": 14,
   "metadata": {},
   "outputs": [
    {
     "name": "stdout",
     "output_type": "stream",
     "text": [
      "WARNING:tensorflow:From <ipython-input-14-ff7a239453c6>:1: Model.fit_generator (from tensorflow.python.keras.engine.training) is deprecated and will be removed in a future version.\n",
      "Instructions for updating:\n",
      "Please use Model.fit, which supports generators.\n",
      "Epoch 1/30\n",
      "100/100 [==============================] - 962s 10s/step - loss: 0.5355 - acc: 0.7140 - val_loss: 0.3239 - val_acc: 0.8560\n",
      "Epoch 2/30\n",
      "100/100 [==============================] - 963s 10s/step - loss: 0.3321 - acc: 0.8555 - val_loss: 0.1626 - val_acc: 0.9230\n",
      "Epoch 3/30\n",
      "100/100 [==============================] - 957s 10s/step - loss: 0.2410 - acc: 0.9005 - val_loss: 0.1312 - val_acc: 0.9420\n",
      "Epoch 4/30\n",
      "100/100 [==============================] - 928s 9s/step - loss: 0.1921 - acc: 0.9235 - val_loss: 0.1870 - val_acc: 0.9120\n",
      "Epoch 5/30\n",
      "100/100 [==============================] - 928s 9s/step - loss: 0.1683 - acc: 0.9325 - val_loss: 0.0909 - val_acc: 0.9630\n",
      "Epoch 6/30\n",
      "100/100 [==============================] - 932s 9s/step - loss: 0.1473 - acc: 0.9415 - val_loss: 0.1498 - val_acc: 0.9490\n",
      "Epoch 7/30\n",
      "100/100 [==============================] - 937s 9s/step - loss: 0.1325 - acc: 0.9495 - val_loss: 0.0997 - val_acc: 0.9630\n",
      "Epoch 8/30\n",
      "100/100 [==============================] - 1023s 10s/step - loss: 0.1240 - acc: 0.9520 - val_loss: 0.0910 - val_acc: 0.9640\n",
      "Epoch 9/30\n",
      "100/100 [==============================] - 987s 10s/step - loss: 0.0991 - acc: 0.9615 - val_loss: 0.1372 - val_acc: 0.9610\n",
      "Epoch 10/30\n",
      "100/100 [==============================] - 941s 9s/step - loss: 0.0929 - acc: 0.9615 - val_loss: 0.1832 - val_acc: 0.9500\n",
      "Epoch 11/30\n",
      "100/100 [==============================] - 938s 9s/step - loss: 0.0776 - acc: 0.9735 - val_loss: 0.0830 - val_acc: 0.9670\n",
      "Epoch 12/30\n",
      "100/100 [==============================] - 925s 9s/step - loss: 0.0719 - acc: 0.9805 - val_loss: 0.1004 - val_acc: 0.9680\n",
      "Epoch 13/30\n",
      "100/100 [==============================] - 924s 9s/step - loss: 0.0736 - acc: 0.9725 - val_loss: 0.0854 - val_acc: 0.9680\n",
      "Epoch 14/30\n",
      "100/100 [==============================] - 929s 9s/step - loss: 0.0696 - acc: 0.9760 - val_loss: 0.1272 - val_acc: 0.9480\n",
      "Epoch 15/30\n",
      "100/100 [==============================] - 933s 9s/step - loss: 0.0741 - acc: 0.9705 - val_loss: 0.0745 - val_acc: 0.9680\n",
      "Epoch 16/30\n",
      "100/100 [==============================] - 920s 9s/step - loss: 0.0526 - acc: 0.9850 - val_loss: 0.0783 - val_acc: 0.9750\n",
      "Epoch 17/30\n",
      "100/100 [==============================] - 920s 9s/step - loss: 0.0795 - acc: 0.9740 - val_loss: 0.0792 - val_acc: 0.9760\n",
      "Epoch 18/30\n",
      "100/100 [==============================] - 931s 9s/step - loss: 0.0509 - acc: 0.9770 - val_loss: 0.0730 - val_acc: 0.9760\n",
      "Epoch 19/30\n",
      "100/100 [==============================] - 935s 9s/step - loss: 0.0569 - acc: 0.9790 - val_loss: 0.1072 - val_acc: 0.9720\n",
      "Epoch 20/30\n",
      "100/100 [==============================] - 932s 9s/step - loss: 0.0562 - acc: 0.9805 - val_loss: 0.0951 - val_acc: 0.9710\n",
      "Epoch 21/30\n",
      "100/100 [==============================] - 921s 9s/step - loss: 0.0534 - acc: 0.9815 - val_loss: 0.1034 - val_acc: 0.9660\n",
      "Epoch 22/30\n",
      "100/100 [==============================] - 916s 9s/step - loss: 0.0454 - acc: 0.9830 - val_loss: 0.2054 - val_acc: 0.9570\n",
      "Epoch 23/30\n",
      "100/100 [==============================] - 940s 9s/step - loss: 0.0403 - acc: 0.9890 - val_loss: 0.1342 - val_acc: 0.9630\n",
      "Epoch 24/30\n",
      "100/100 [==============================] - 941s 9s/step - loss: 0.0421 - acc: 0.9855 - val_loss: 0.1485 - val_acc: 0.9600\n",
      "Epoch 25/30\n",
      "100/100 [==============================] - 1015s 10s/step - loss: 0.0325 - acc: 0.9915 - val_loss: 0.0997 - val_acc: 0.9740\n",
      "Epoch 26/30\n",
      "100/100 [==============================] - 918s 9s/step - loss: 0.0453 - acc: 0.9870 - val_loss: 0.1255 - val_acc: 0.9630\n",
      "Epoch 27/30\n",
      "100/100 [==============================] - 916s 9s/step - loss: 0.0337 - acc: 0.9895 - val_loss: 0.1388 - val_acc: 0.9610\n",
      "Epoch 28/30\n",
      "100/100 [==============================] - 928s 9s/step - loss: 0.0486 - acc: 0.9845 - val_loss: 0.1246 - val_acc: 0.9720\n",
      "Epoch 29/30\n",
      "100/100 [==============================] - 914s 9s/step - loss: 0.0351 - acc: 0.9885 - val_loss: 0.1150 - val_acc: 0.9750\n",
      "Epoch 30/30\n",
      "100/100 [==============================] - 921s 9s/step - loss: 0.0285 - acc: 0.9905 - val_loss: 0.1277 - val_acc: 0.9640\n"
     ]
    }
   ],
   "source": [
    "history = model.fit_generator(train_generator,\n",
    "                             steps_per_epoch=100,\n",
    "                             epochs=30,\n",
    "                             validation_data=validation_generator,\n",
    "                             validation_steps=50,\n",
    "                             callbacks=[checkpoint_cb])"
   ]
  },
  {
   "cell_type": "code",
   "execution_count": 15,
   "metadata": {},
   "outputs": [
    {
     "data": {
      "image/png": "[encoded data removed]",
      "text/plain": [
       "<Figure size 576x360 with 1 Axes>"
      ]
     },
     "metadata": {
      "needs_background": "light"
     },
     "output_type": "display_data"
    }
   ],
   "source": [
    "pd.DataFrame(history.history).plot(figsize=(8,5))\n",
    "plt.grid(True)\n",
    "plt.gca().set_ylim(0,1)\n",
    "plt.show()"
   ]
  },
  {
   "cell_type": "code",
   "execution_count": 16,
   "metadata": {},
   "outputs": [],
   "source": [
    "hist_df = pd.DataFrame(history.history)\n",
    "hist_csv = \"VGG16_History.csv\"\n",
    "with open(hist_csv, mode='w') as f:\n",
    "    hist_df.to_csv(f)"
   ]
  },
  {
   "cell_type": "code",
   "execution_count": 18,
   "metadata": {},
   "outputs": [
    {
     "name": "stdout",
     "output_type": "stream",
     "text": [
      "Found 1000 images belonging to 2 classes.\n"
     ]
    }
   ],
   "source": [
    "test_generator = test_datagen.flow_from_directory(test_dir,\n",
    "                                                 target_size=(150,150),\n",
    "                                                 batch_size=20,\n",
    "                                                 class_mode='binary')"
   ]
  },
  {
   "cell_type": "code",
   "execution_count": 19,
   "metadata": {},
   "outputs": [
    {
     "name": "stdout",
     "output_type": "stream",
     "text": [
      "WARNING:tensorflow:From <ipython-input-19-83d4f6cbdea5>:1: Model.evaluate_generator (from tensorflow.python.keras.engine.training) is deprecated and will be removed in a future version.\n",
      "Instructions for updating:\n",
      "Please use Model.evaluate, which supports generators.\n"
     ]
    },
    {
     "data": {
      "text/plain": [
       "[0.23784925043582916, 0.9599999785423279]"
      ]
     },
     "execution_count": 19,
     "metadata": {},
     "output_type": "execute_result"
    }
   ],
   "source": [
    "model.evaluate_generator(test_generator, steps=50)"
   ]
  },
  {
   "cell_type": "code",
   "execution_count": null,
   "metadata": {},
   "outputs": [],
   "source": []
  }
 ],
 "metadata": {
  "kernelspec": {
   "display_name": "Python 3",
   "language": "python",
   "name": "python3"
  },
  "language_info": {
   "codemirror_mode": {
    "name": "ipython",
    "version": 3
   },
   "file_extension": ".py",
   "mimetype": "text/x-python",
   "name": "python",
   "nbconvert_exporter": "python",
   "pygments_lexer": "ipython3",
   "version": "3.8.5"
  }
 },
 "nbformat": 4,
 "nbformat_minor": 4
}
