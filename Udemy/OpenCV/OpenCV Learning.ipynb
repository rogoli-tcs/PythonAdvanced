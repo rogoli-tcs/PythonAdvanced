{
 "cells": [
  {
   "cell_type": "code",
   "execution_count": 1,
   "metadata": {},
   "outputs": [],
   "source": [
    "%config IPCompleter.greedy=True"
   ]
  },
  {
   "cell_type": "code",
   "execution_count": 2,
   "metadata": {},
   "outputs": [],
   "source": [
    "## Reading an Image\n",
    "\n",
    "import cv2\n",
    "\n",
    "## Read Image as is\n",
    "img = cv2.imread('BingImageOfTheDay.jpg')\n",
    "\n",
    "## Read Image as GrayScale\n",
    "# img = cv2.imread('BingImageOfTheDay.jpg',0)\n",
    "## Read Image with Full Colors in Alpha Channel -> -1/1\n",
    "\n",
    "cv2.imshow('Original',img)\n",
    "cv2.waitKey(0)\n",
    "cv2.destroyAllWindows()"
   ]
  },
  {
   "cell_type": "code",
   "execution_count": 3,
   "metadata": {},
   "outputs": [
    {
     "data": {
      "text/plain": [
       "True"
      ]
     },
     "execution_count": 3,
     "metadata": {},
     "output_type": "execute_result"
    }
   ],
   "source": [
    "# Saving an Image\n",
    "\n",
    "cv2.imwrite('BingImageOfTheDay.png',img)"
   ]
  },
  {
   "cell_type": "code",
   "execution_count": 4,
   "metadata": {},
   "outputs": [],
   "source": [
    "# Drawing an Image\n",
    "\n",
    "import numpy as np\n",
    "\n",
    "# Init numpy 3D array with Black\n",
    "pic = np.zeros((500,500,3), dtype='uint8')\n",
    "\n",
    "# Draw Rectangle\n",
    "cv2.rectangle(pic, (0,0),(500,150),(123,200,98), 3, lineType=8, shift=0)\n",
    "cv2.rectangle(pic, (0,155),(250,500),(255,0,0), 3, lineType=8, shift=0)\n",
    "\n",
    "# Draw Line\n",
    "cv2.line(pic, (250,350),(500,350),(0,0,255))\n",
    "\n",
    "# Draw Circle\n",
    "cv2.circle(pic, (250,250),100, (255,0,255))\n",
    "cv2.circle(pic, (250,450),8, (255,255,0))\n",
    "\n",
    "cv2.imshow('dark',pic)\n",
    "cv2.waitKey(0)\n",
    "cv2.destroyAllWindows()"
   ]
  },
  {
   "cell_type": "code",
   "execution_count": 5,
   "metadata": {},
   "outputs": [],
   "source": [
    "# Draw text on Image\n",
    "\n",
    "pic = np.zeros((500,500,3), dtype='uint8')\n",
    "font = cv2.FONT_HERSHEY_DUPLEX\n",
    "\n",
    "cv2.putText(pic,'Rohan',(100,100),font, 3, (255,255,255), 4, cv2.LINE_8)\n",
    "\n",
    "cv2.imshow('dark',pic)\n",
    "cv2.waitKey(0)\n",
    "cv2.destroyAllWindows()"
   ]
  },
  {
   "cell_type": "code",
   "execution_count": 6,
   "metadata": {},
   "outputs": [],
   "source": [
    "# Draw Combination\n",
    "\n",
    "pic = np.zeros((500,500,3), dtype='uint8')\n",
    "font = cv2.FONT_HERSHEY_DUPLEX\n",
    "\n",
    "cv2.rectangle(pic, (0,0), (500,150), (0,255,0), 3, lineType=8, shift=0)\n",
    "cv2.putText(pic,'Rohan',(100,100), font, 3, (255,255,255), 3, cv2.LINE_8)\n",
    "cv2.circle(pic,(250,250),50,(255,0,0))\n",
    "cv2.line(pic,(250,150),(250,350),(0,0,255))\n",
    "\n",
    "cv2.imshow('dark',pic)\n",
    "cv2.waitKey(0)\n",
    "cv2.destroyAllWindows()"
   ]
  },
  {
   "cell_type": "code",
   "execution_count": 7,
   "metadata": {},
   "outputs": [],
   "source": [
    "# Image Transformation - Shifting Image\n",
    "\n",
    "pic = cv2.imread('BingImageOfTheDay.jpg')\n",
    "(rows, cols, chn) = pic.shape\n",
    "\n",
    "# Shifting Matrix\n",
    "M = np.float32([[1,0,150],[0,1,70]])\n",
    "\n",
    "shifted=cv2.warpAffine(pic,M,(cols,rows))\n",
    "\n",
    "cv2.imshow('shifted',shifted)\n",
    "cv2.waitKey(0)\n",
    "cv2.destroyAllWindows()"
   ]
  },
  {
   "cell_type": "code",
   "execution_count": 8,
   "metadata": {},
   "outputs": [],
   "source": [
    "# Image Rotation\n",
    "\n",
    "# Image Transformation - Shifting Image\n",
    "\n",
    "pic = cv2.imread('BingImageOfTheDay.jpg')\n",
    "(rows, cols, chn) = pic.shape\n",
    "\n",
    "## Rotation Matrix\n",
    "center=(cols/2,rows/2)\n",
    "angle=90\n",
    "M=cv2.getRotationMatrix2D(center, angle, 1)\n",
    "\n",
    "rotate = cv2.warpAffine(pic,M,(cols,rows))\n",
    "\n",
    "cv2.imshow('rotate',rotate)\n",
    "cv2.waitKey(0)\n",
    "cv2.destroyAllWindows()"
   ]
  },
  {
   "cell_type": "code",
   "execution_count": 9,
   "metadata": {},
   "outputs": [],
   "source": [
    "# Image Thresholding\n",
    "\n",
    "## Load image in greyscale\n",
    "pic = cv2.imread('BingImageOfTheDay.jpg',0)\n",
    "\n",
    "threshold_value = 127\n",
    "\n",
    "(T_value, binary_threshold) = cv2.threshold(pic, threshold_value, 255, cv2.THRESH_BINARY)\n",
    "\n",
    "cv2.imshow('threshold',binary_threshold)\n",
    "cv2.waitKey(0)\n",
    "cv2.destroyAllWindows()"
   ]
  },
  {
   "cell_type": "code",
   "execution_count": 10,
   "metadata": {},
   "outputs": [],
   "source": [
    "# Gaussian Blur Filter - Total Smoothening of Image\n",
    "\n",
    "pic = cv2.imread('BingImageOfTheDay.jpg')\n",
    "\n",
    "matrix = (7,7)\n",
    "\n",
    "gaussian_blur = cv2.GaussianBlur(pic, matrix, 0)\n",
    "\n",
    "cv2.imshow('gaussian_blur',gaussian_blur)\n",
    "cv2.waitKey(0)\n",
    "cv2.destroyAllWindows()"
   ]
  },
  {
   "cell_type": "code",
   "execution_count": 11,
   "metadata": {},
   "outputs": [],
   "source": [
    "# Median Blur Filter - Preserve Edges while blur\n",
    "\n",
    "kernal = 3\n",
    "\n",
    "median_blur = cv2.medianBlur(pic,kernal)\n",
    "\n",
    "cv2.imshow('median_blur',median_blur)\n",
    "cv2.waitKey(0)\n",
    "cv2.destroyAllWindows()"
   ]
  },
  {
   "cell_type": "code",
   "execution_count": 12,
   "metadata": {},
   "outputs": [],
   "source": [
    "# Bilateral Blur Filter - Preserve Edges and Smoothens Inside\n",
    "\n",
    "# Around 7 pixles smoothens\n",
    "dimpixel = 7\n",
    "color = 100\n",
    "space = 100\n",
    "\n",
    "bilateral_blur = cv2.bilateralFilter(pic, dimpixel,color,space)\n",
    "\n",
    "cv2.imshow('bilateral_blur',bilateral_blur)\n",
    "cv2.waitKey(0)\n",
    "cv2.destroyAllWindows()"
   ]
  },
  {
   "cell_type": "code",
   "execution_count": 13,
   "metadata": {},
   "outputs": [],
   "source": [
    "# Canny Edge Detector\n",
    "\n",
    "threshold_value1 = 50\n",
    "threshold_value2 = 100\n",
    "\n",
    "canny = cv2.Canny(pic,threshold_value1,threshold_value2)\n",
    "\n",
    "cv2.imshow('Canny Edge Detector',canny)\n",
    "cv2.waitKey(0)\n",
    "cv2.destroyAllWindows()"
   ]
  },
  {
   "cell_type": "code",
   "execution_count": 14,
   "metadata": {},
   "outputs": [],
   "source": [
    "# Reading Video and Displaying Frame\n",
    "\n",
    "cap = cv2.VideoCapture('Megamind.avi')\n",
    "\n",
    "while cap.isOpened():\n",
    "    ret, frame = cap.read()\n",
    "    if ret == True:\n",
    "        cv2.imshow('Video',frame)\n",
    "        if cv2.waitKey(30) & 0xFF == ord('q'):\n",
    "            break\n",
    "    else:\n",
    "        break\n",
    "\n",
    "cap.release()\n",
    "cv2.destroyAllWindows()"
   ]
  },
  {
   "cell_type": "code",
   "execution_count": 16,
   "metadata": {},
   "outputs": [],
   "source": [
    "# Writing Video File\n",
    "\n",
    "cap = cv2.VideoCapture('Megamind.avi')\n",
    "#fourcc = cv2.VideoWriter_fourcc(*'FMP4')\n",
    "fourcc = cv2.VideoWriter_fourcc(*'XVID')\n",
    "## XVID -> .avi\n",
    "## MP4V -> .mp4\n",
    "fps=24\n",
    "framesize=(720,528)\n",
    "out=cv2.VideoWriter('sample.avi',fourcc,fps,framesize)\n",
    "\n",
    "while cap.isOpened():\n",
    "    ret, frame = cap.read()\n",
    "    if ret == True:\n",
    "        cv2.imshow('Video',frame)\n",
    "        if cv2.waitKey(30) & 0xFF == ord('q'):\n",
    "            break\n",
    "    else:\n",
    "        break\n",
    "\n",
    "out.release()\n",
    "cap.release()\n",
    "cv2.destroyAllWindows()"
   ]
  },
  {
   "cell_type": "code",
   "execution_count": null,
   "metadata": {},
   "outputs": [],
   "source": []
  }
 ],
 "metadata": {
  "kernelspec": {
   "display_name": "Python 3",
   "language": "python",
   "name": "python3"
  },
  "language_info": {
   "codemirror_mode": {
    "name": "ipython",
    "version": 3
   },
   "file_extension": ".py",
   "mimetype": "text/x-python",
   "name": "python",
   "nbconvert_exporter": "python",
   "pygments_lexer": "ipython3",
   "version": "3.8.5"
  }
 },
 "nbformat": 4,
 "nbformat_minor": 4
}
